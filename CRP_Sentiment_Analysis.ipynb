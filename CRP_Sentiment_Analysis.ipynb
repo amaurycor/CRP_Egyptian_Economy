{
 "cells": [
  {
   "cell_type": "code",
   "execution_count": 3,
   "metadata": {},
   "outputs": [],
   "source": [
    "import pandas as pd\n",
    "from datetime import datetime\n",
    "from statistics import mean\n",
    "import numpy as np"
   ]
  },
  {
   "cell_type": "code",
   "execution_count": 20,
   "metadata": {},
   "outputs": [
    {
     "name": "stderr",
     "output_type": "stream",
     "text": [
      "/var/folders/4q/7w99lfvx0cl74dtmhv3y6gfc0000gn/T/ipykernel_2552/1994063235.py:2: DtypeWarning: Columns (7) have mixed types. Specify dtype option on import or set low_memory=False.\n",
      "  df = pd.read_csv('/Users/amaury/Documents/!DSBA/CRP/headlines_english_arabic_countries.csv')\n"
     ]
    }
   ],
   "source": [
    "# Data import\n",
    "df = pd.read_csv('/Users/amaury/Documents/!DSBA/CRP/headlines_english_arabic_countries.csv')"
   ]
  },
  {
   "cell_type": "code",
   "execution_count": 21,
   "metadata": {},
   "outputs": [
    {
     "data": {
      "text/html": [
       "<div>\n",
       "<style scoped>\n",
       "    .dataframe tbody tr th:only-of-type {\n",
       "        vertical-align: middle;\n",
       "    }\n",
       "\n",
       "    .dataframe tbody tr th {\n",
       "        vertical-align: top;\n",
       "    }\n",
       "\n",
       "    .dataframe thead th {\n",
       "        text-align: right;\n",
       "    }\n",
       "</style>\n",
       "<table border=\"1\" class=\"dataframe\">\n",
       "  <thead>\n",
       "    <tr style=\"text-align: right;\">\n",
       "      <th></th>\n",
       "      <th>gkgrecordid</th>\n",
       "      <th>date</th>\n",
       "      <th>subsourcecommonname</th>\n",
       "      <th>documentidentifier</th>\n",
       "      <th>enhancedthemes</th>\n",
       "      <th>enhancedlocations</th>\n",
       "      <th>tone</th>\n",
       "      <th>extrasxml</th>\n",
       "      <th>translationinfo</th>\n",
       "    </tr>\n",
       "  </thead>\n",
       "  <tbody>\n",
       "    <tr>\n",
       "      <th>0</th>\n",
       "      <td>20151011213000-456</td>\n",
       "      <td>2.015101e+13</td>\n",
       "      <td>dailynewsegypt.com</td>\n",
       "      <td>http://www.dailynewsegypt.com/2015/10/11/tgm-m...</td>\n",
       "      <td>ECON_WORLDCURRENCIES_DOLLAR,2612;ECON_WORLDCUR...</td>\n",
       "      <td>4#Milan, Lombardia, Italy#IT#IT09#18363#45.466...</td>\n",
       "      <td>1.76991150442478,2.54424778761062,0.7743362831...</td>\n",
       "      <td>NaN</td>\n",
       "      <td>NaN</td>\n",
       "    </tr>\n",
       "    <tr>\n",
       "      <th>1</th>\n",
       "      <td>20151011213000-1551</td>\n",
       "      <td>2.015101e+13</td>\n",
       "      <td>gizmodo.com.au</td>\n",
       "      <td>http://www.gizmodo.com.au/2015/10/5-ideas-that...</td>\n",
       "      <td>MANMADE_DISASTER_IMPLIED,58;MANMADE_DISASTER_I...</td>\n",
       "      <td>3#Manhattan, New York, United States#US#USNY#N...</td>\n",
       "      <td>0.843320017754106,2.13049267643142,1.287172658...</td>\n",
       "      <td>NaN</td>\n",
       "      <td>NaN</td>\n",
       "    </tr>\n",
       "    <tr>\n",
       "      <th>2</th>\n",
       "      <td>20151011213000-1644</td>\n",
       "      <td>2.015101e+13</td>\n",
       "      <td>competitor.com</td>\n",
       "      <td>http://velonews.competitor.com/2015/10/news/ch...</td>\n",
       "      <td>WB_2670_JOBS,696;WB_2815_SKILLS_AND_EDUCATION,...</td>\n",
       "      <td>4#Abu Dhabi, Abu ZÂ¸Aby, United Arab Emirates#...</td>\n",
       "      <td>4.83271375464684,4.83271375464684,0,4.83271375...</td>\n",
       "      <td>NaN</td>\n",
       "      <td>NaN</td>\n",
       "    </tr>\n",
       "    <tr>\n",
       "      <th>3</th>\n",
       "      <td>20151016043000-1997</td>\n",
       "      <td>2.015102e+13</td>\n",
       "      <td>daily-chronicle.com</td>\n",
       "      <td>http://www.daily-chronicle.com/2015/10/15/saud...</td>\n",
       "      <td>GENERAL_GOVERNMENT,620;GENERAL_GOVERNMENT,4524...</td>\n",
       "      <td>4#Baghdad, Baghdad, Iraq#IZ#IZ07#36785#33.3386...</td>\n",
       "      <td>-4.35754189944134,1.11731843575419,5.474860335...</td>\n",
       "      <td>NaN</td>\n",
       "      <td>NaN</td>\n",
       "    </tr>\n",
       "    <tr>\n",
       "      <th>4</th>\n",
       "      <td>20151011150000-503</td>\n",
       "      <td>2.015101e+13</td>\n",
       "      <td>dailynewsegypt.com</td>\n",
       "      <td>http://www.dailynewsegypt.com/2015/10/11/sharp...</td>\n",
       "      <td>KIDNAP,2150;EXTREMISM,2184;BORDER,2772;TAX_REL...</td>\n",
       "      <td>4#Gaza, Israel (General), Israel#IS#IS00#18315...</td>\n",
       "      <td>-9.05730129390018,0.924214417744917,9.98151571...</td>\n",
       "      <td>NaN</td>\n",
       "      <td>NaN</td>\n",
       "    </tr>\n",
       "  </tbody>\n",
       "</table>\n",
       "</div>"
      ],
      "text/plain": [
       "           gkgrecordid          date  subsourcecommonname  \\\n",
       "0   20151011213000-456  2.015101e+13   dailynewsegypt.com   \n",
       "1  20151011213000-1551  2.015101e+13       gizmodo.com.au   \n",
       "2  20151011213000-1644  2.015101e+13       competitor.com   \n",
       "3  20151016043000-1997  2.015102e+13  daily-chronicle.com   \n",
       "4   20151011150000-503  2.015101e+13   dailynewsegypt.com   \n",
       "\n",
       "                                  documentidentifier  \\\n",
       "0  http://www.dailynewsegypt.com/2015/10/11/tgm-m...   \n",
       "1  http://www.gizmodo.com.au/2015/10/5-ideas-that...   \n",
       "2  http://velonews.competitor.com/2015/10/news/ch...   \n",
       "3  http://www.daily-chronicle.com/2015/10/15/saud...   \n",
       "4  http://www.dailynewsegypt.com/2015/10/11/sharp...   \n",
       "\n",
       "                                      enhancedthemes  \\\n",
       "0  ECON_WORLDCURRENCIES_DOLLAR,2612;ECON_WORLDCUR...   \n",
       "1  MANMADE_DISASTER_IMPLIED,58;MANMADE_DISASTER_I...   \n",
       "2  WB_2670_JOBS,696;WB_2815_SKILLS_AND_EDUCATION,...   \n",
       "3  GENERAL_GOVERNMENT,620;GENERAL_GOVERNMENT,4524...   \n",
       "4  KIDNAP,2150;EXTREMISM,2184;BORDER,2772;TAX_REL...   \n",
       "\n",
       "                                   enhancedlocations  \\\n",
       "0  4#Milan, Lombardia, Italy#IT#IT09#18363#45.466...   \n",
       "1  3#Manhattan, New York, United States#US#USNY#N...   \n",
       "2  4#Abu Dhabi, Abu ZÂ¸Aby, United Arab Emirates#...   \n",
       "3  4#Baghdad, Baghdad, Iraq#IZ#IZ07#36785#33.3386...   \n",
       "4  4#Gaza, Israel (General), Israel#IS#IS00#18315...   \n",
       "\n",
       "                                                tone extrasxml  \\\n",
       "0  1.76991150442478,2.54424778761062,0.7743362831...       NaN   \n",
       "1  0.843320017754106,2.13049267643142,1.287172658...       NaN   \n",
       "2  4.83271375464684,4.83271375464684,0,4.83271375...       NaN   \n",
       "3  -4.35754189944134,1.11731843575419,5.474860335...       NaN   \n",
       "4  -9.05730129390018,0.924214417744917,9.98151571...       NaN   \n",
       "\n",
       "   translationinfo  \n",
       "0              NaN  \n",
       "1              NaN  \n",
       "2              NaN  \n",
       "3              NaN  \n",
       "4              NaN  "
      ]
     },
     "execution_count": 21,
     "metadata": {},
     "output_type": "execute_result"
    }
   ],
   "source": [
    "df.head()"
   ]
  },
  {
   "cell_type": "code",
   "execution_count": 22,
   "metadata": {},
   "outputs": [],
   "source": [
    "# Transforming the tone column into a list\n",
    "def convert_into_list(string):\n",
    "    listos = list(string.split(\",\"))\n",
    "    listos = [eval(i) for i in listos] # to get a float list\n",
    "    return listos\n",
    "\n",
    "df.tone = df.tone.apply(lambda x: convert_into_list(x))"
   ]
  },
  {
   "cell_type": "code",
   "execution_count": 26,
   "metadata": {},
   "outputs": [
    {
     "name": "stdout",
     "output_type": "stream",
     "text": [
      "[1.76991150442478, 2.54424778761062, 0.774336283185841, 3.31858407079646, 18.9159292035398, 1.43805309734513, 849]\n",
      "4.3141592920354\n"
     ]
    }
   ],
   "source": [
    "# Checking the tone transformation\n",
    "print(df.tone[0])\n",
    "print(df.tone[0][0]+df.tone[0][1])"
   ]
  },
  {
   "cell_type": "code",
   "execution_count": 27,
   "metadata": {},
   "outputs": [
    {
     "data": {
      "text/plain": [
       "0    4.793510\n",
       "1    5.200473\n",
       "2    7.558860\n",
       "3    5.083799\n",
       "4    5.422058\n",
       "Name: mean_tone, dtype: float64"
      ]
     },
     "execution_count": 27,
     "metadata": {},
     "output_type": "execute_result"
    }
   ],
   "source": [
    "df['mean_tone'] = df.tone.apply(lambda x: np.average(x[:-1]))\n",
    "df.mean_tone.head()"
   ]
  },
  {
   "cell_type": "code",
   "execution_count": 29,
   "metadata": {},
   "outputs": [
    {
     "data": {
      "text/plain": [
       "20151011213000.0"
      ]
     },
     "execution_count": 29,
     "metadata": {},
     "output_type": "execute_result"
    }
   ],
   "source": [
    "df.date.iloc[0]"
   ]
  },
  {
   "cell_type": "code",
   "execution_count": 30,
   "metadata": {},
   "outputs": [
    {
     "data": {
      "text/plain": [
       "0        2015-10-11 21:30:00\n",
       "1        2015-10-11 21:30:00\n",
       "2        2015-10-11 21:30:00\n",
       "3        2015-10-16 04:30:00\n",
       "4        2015-10-11 15:00:00\n",
       "                 ...        \n",
       "773841   2023-03-07 13:45:00\n",
       "773842   2023-03-07 19:15:00\n",
       "773843   2023-03-07 19:15:00\n",
       "773844   2023-03-07 19:15:00\n",
       "773845   2023-03-07 19:15:00\n",
       "Name: date, Length: 773846, dtype: datetime64[ns]"
      ]
     },
     "execution_count": 30,
     "metadata": {},
     "output_type": "execute_result"
    }
   ],
   "source": [
    "# Date conversion\n",
    "df.date = df.date.apply(lambda x: datetime.strptime(str(int(x)), '%Y%m%d%H%M%S'))\n",
    "df.date"
   ]
  },
  {
   "cell_type": "code",
   "execution_count": 31,
   "metadata": {},
   "outputs": [
    {
     "data": {
      "text/plain": [
       "'ECON_WORLDCURRENCIES_DOLLAR,2612;ECON_WORLDCURRENCIES_US_DOLLAR,2612;TAX_FNCACT_TENANTS,2567;TAX_FNCACT_TENANTS,2667;AFFECT,2532;NEGOTIATIONS,1137;NEGOTIATIONS,2805;NEGOTIATIONS,4173;WB_840_JUSTICE,1137;WB_840_JUSTICE,2805;WB_840_JUSTICE,4173;WB_2473_DIPLOMACY_AND_NEGOTIATIONS,1137;WB_2473_DIPLOMACY_AND_NEGOTIATIONS,2805;WB_2473_DIPLOMACY_AND_NEGOTIATIONS,4173;WB_939_NEGOTIATION,1137;WB_939_NEGOTIATION,2805;WB_939_NEGOTIATION,4173;WB_2470_PEACE_OPERATIONS_AND_CONFLICT_MANAGEMENT,1137;WB_2470_PEACE_OPERATIONS_AND_CONFLICT_MANAGEMENT,2805;WB_2470_PEACE_OPERATIONS_AND_CONFLICT_MANAGEMENT,4173;WB_936_ALTERNATIVE_DISPUTE_RESOLUTION,1137;WB_936_ALTERNATIVE_DISPUTE_RESOLUTION,2805;WB_936_ALTERNATIVE_DISPUTE_RESOLUTION,4173;WB_2432_FRAGILITY_CONFLICT_AND_VIOLENCE,1137;WB_2432_FRAGILITY_CONFLICT_AND_VIOLENCE,2805;WB_2432_FRAGILITY_CONFLICT_AND_VIOLENCE,4173;WB_843_DISPUTE_RESOLUTION,1137;WB_843_DISPUTE_RESOLUTION,2805;WB_843_DISPUTE_RESOLUTION,4173;WB_2471_PEACEKEEPING,1137;WB_2471_PEACEKEEPING,2805;WB_2471_PEACEKEEPING,4173;CRISISLEX_T11_UPDATESSYMPATHY,5033;ECON_HOUSING_PRICES,84;ECON_HOUSING_PRICES,1169;ECON_HOUSING_PRICES,3046;ECON_HOUSING_PRICES,3102;ECON_HOUSING_PRICES,3652;ECON_HOUSING_PRICES,4443;WB_678_DIGITAL_GOVERNMENT,4645;WB_694_BROADCAST_AND_MEDIA,4645;WB_133_INFORMATION_AND_COMMUNICATION_TECHNOLOGIES,4645;ECON_WORLDCURRENCIES_DOLLARS,2505;USPEC_POLICY1,5054;WB_368_LEASING,595;TAX_ECON_PRICE,2912;URBAN,1063;TAX_FNCACT_AGENT,677;TAX_FNCACT_AGENT,4691;TAX_ETHNICITY_ARAB,3287;TAX_FNCACT_WORKERS,1753;ECON_WORLDCURRENCIES_EGYPTIAN_POUNDS,2523;WB_845_LEGAL_AND_REGULATORY_FRAMEWORK,462;WB_845_LEGAL_AND_REGULATORY_FRAMEWORK,1970;WB_696_PUBLIC_SECTOR_MANAGEMENT,462;WB_696_PUBLIC_SECTOR_MANAGEMENT,1970;WB_851_INTELLECTUAL_PROPERTY_RIGHTS,462;WB_851_INTELLECTUAL_PROPERTY_RIGHTS,1970;WB_1042_TRADEMARKS,462;WB_1042_TRADEMARKS,1970;WB_1039_PROPERTY_LAWS_AND_REGULATIONS,462;WB_1039_PROPERTY_LAWS_AND_REGULATIONS,1970;'"
      ]
     },
     "execution_count": 31,
     "metadata": {},
     "output_type": "execute_result"
    }
   ],
   "source": [
    "df.enhancedthemes.iloc[0]"
   ]
  },
  {
   "cell_type": "code",
   "execution_count": 12,
   "metadata": {},
   "outputs": [],
   "source": [
    "#  Cleaning of the headlines\n",
    "def headlines_cleaning(s_):\n",
    "    s_ = str(s_)\n",
    "    modified_str = [elem.split(',')[0] for elem in s_.split(';')] # delete the number after the coma\n",
    "\n",
    "    final_str=[]\n",
    "    separator=' '\n",
    "    for s in modified_str:\n",
    "        if s.split('_')[0]=='WB':\n",
    "            final_str.append(separator.join(s.split('_')[2:]).split(' ')) # delete the prefix 'WB_XXX', remove underscore and split each word\n",
    "        else:\n",
    "            final_str.append(separator.join(s.split('_')).split(' '))\n",
    "\n",
    "    # to get a list of words and not a list of sub lists\n",
    "    merged_list = []\n",
    "    for sublist in final_str:\n",
    "        merged_list.extend(sublist)\n",
    "\n",
    "    return(merged_list) "
   ]
  },
  {
   "cell_type": "code",
   "execution_count": 13,
   "metadata": {},
   "outputs": [
    {
     "name": "stdout",
     "output_type": "stream",
     "text": [
      "['DISPUTE', 'RESOLUTION', 'DISPUTE', 'RESOLUTION', 'TEST', 'TESTOS'] DISPUTE\n"
     ]
    }
   ],
   "source": [
    "# Test of cleaning\n",
    "original_str = 'WB_843_DISPUTE_RESOLUTION,1137;WB_843_DISPUTE_RESOLUTION,2805;TEST_TESTOS,2021'\n",
    "res = headlines_cleaning(original_str)\n",
    "print(res, res[0])"
   ]
  },
  {
   "cell_type": "code",
   "execution_count": 14,
   "metadata": {},
   "outputs": [
    {
     "data": {
      "text/plain": [
       "0         [ECON, WORLDCURRENCIES, DOLLAR, ECON, WORLDCUR...\n",
       "1         [MANMADE, DISASTER, IMPLIED, MANMADE, DISASTER...\n",
       "2         [JOBS, SKILLS, AND, EDUCATION, JOBS, STRATEGIE...\n",
       "3         [GENERAL, GOVERNMENT, GENERAL, GOVERNMENT, TAX...\n",
       "4         [KIDNAP, EXTREMISM, BORDER, TAX, RELIGION, MUS...\n",
       "                                ...                        \n",
       "773841    [GENERAL, GOVERNMENT, GENERAL, GOVERNMENT, EPU...\n",
       "773842    [GENERAL, HEALTH, MEDICAL, TAX, FNCACT, VICE, ...\n",
       "773843                                                [nan]\n",
       "773844    [GENERAL, GOVERNMENT, EPU, POLICY, GOVERNMENT,...\n",
       "773845    [PROTEST, EPU, CATS, NATIONAL, SECURITY, TAX, ...\n",
       "Name: enhancedthemes, Length: 773846, dtype: object"
      ]
     },
     "execution_count": 14,
     "metadata": {},
     "output_type": "execute_result"
    }
   ],
   "source": [
    "df.enhancedthemes.apply(lambda x: headlines_cleaning(x))"
   ]
  },
  {
   "cell_type": "code",
   "execution_count": 15,
   "metadata": {},
   "outputs": [
    {
     "name": "stdout",
     "output_type": "stream",
     "text": [
      "gkgrecordid                 0\n",
      "date                        0\n",
      "subsourcecommonname       103\n",
      "documentidentifier          0\n",
      "enhancedthemes          80673\n",
      "enhancedlocations           0\n",
      "tone                        0\n",
      "extrasxml              221985\n",
      "translationinfo        773846\n",
      "mean_tone                   0\n",
      "dtype: int64\n"
     ]
    }
   ],
   "source": [
    "# Checking null values\n",
    "null_counts = df.isnull().sum()\n",
    "print(null_counts)\n",
    "# Drop empty headlines/sources\n",
    "df = df.dropna(subset=['enhancedthemes'])\n",
    "df = df.dropna(subset=['subsourcecommonname'])"
   ]
  },
  {
   "cell_type": "code",
   "execution_count": 16,
   "metadata": {},
   "outputs": [
    {
     "name": "stdout",
     "output_type": "stream",
     "text": [
      "                gkgrecordid                date   subsourcecommonname  \\\n",
      "0        20151011213000-456 2015-10-11 21:30:00    dailynewsegypt.com   \n",
      "5        20151011150000-539 2015-10-11 15:00:00             yahoo.com   \n",
      "8       20151017084500-1217 2015-10-17 08:45:00  barossaherald.com.au   \n",
      "15      20151017104500-1406 2015-10-17 10:45:00  cachevalleydaily.com   \n",
      "31       20151018111500-724 2015-10-18 11:15:00    dubaicityguide.com   \n",
      "...                     ...                 ...                   ...   \n",
      "773834   20230304123000-521 2023-03-04 12:30:00     coastaldigest.com   \n",
      "773836   20230301120000-766 2023-03-01 12:00:00          arabnews.com   \n",
      "773837   20230301120000-907 2023-03-01 12:00:00           dohanews.co   \n",
      "773839   20230307134500-702 2023-03-07 13:45:00    bignewsnetwork.com   \n",
      "773844  20230307191500-1232 2023-03-07 19:15:00        arabherald.com   \n",
      "\n",
      "                                       documentidentifier  \\\n",
      "0       http://www.dailynewsegypt.com/2015/10/11/tgm-m...   \n",
      "5       https://en-maktoob.news.yahoo.com/mideast-stoc...   \n",
      "8       http://www.barossaherald.com.au/story/3429242/...   \n",
      "15      http://www.cachevalleydaily.com/news/national/...   \n",
      "31      http://www.dubaicityguide.com/site/news/news-d...   \n",
      "...                                                   ...   \n",
      "773834  http://www.coastaldigest.com/nri-digest-top-st...   \n",
      "773836  https://www.arabnews.com/node/2260221/business...   \n",
      "773837  https://dohanews.co/egypt-seeks-joint-investme...   \n",
      "773839  https://www.bignewsnetwork.com/news/273601697/...   \n",
      "773844  https://www.arabherald.com/news/273602099/rela...   \n",
      "\n",
      "                                           enhancedthemes  \\\n",
      "0       ECON_WORLDCURRENCIES_DOLLAR,2612;ECON_WORLDCUR...   \n",
      "5       ECON_OILPRICE,114;ECON_STOCKMARKET,52;ECON_STO...   \n",
      "8       TAX_FNCACT_BACKBENCHER,2073;AGRICULTURE,907;AG...   \n",
      "15      TAX_FNCACT_CANDIDATES,163;TAX_FNCACT_CANDIDATE...   \n",
      "31      SOC_EMERGINGTECH,1781;WB_1467_EDUCATION_FOR_AL...   \n",
      "...                                                   ...   \n",
      "773834  TAX_ETHNICITY_INDIAN,237;TAX_ETHNICITY_INDIAN,...   \n",
      "773836  TAX_ECON_PRICE,396;ECON_STOCKMARKET,231;CRISIS...   \n",
      "773837  BLOCKADE,2750;SEIGE,2750;GENERAL_GOVERNMENT,10...   \n",
      "773839  GENERAL_GOVERNMENT,847;GENERAL_GOVERNMENT,976;...   \n",
      "773844  GENERAL_GOVERNMENT,1283;EPU_POLICY_GOVERNMENT,...   \n",
      "\n",
      "                                        enhancedlocations  \\\n",
      "0       4#Milan, Lombardia, Italy#IT#IT09#18363#45.466...   \n",
      "5       4#First Gulf Bank, Dubayy, United Arab Emirate...   \n",
      "8       1#Indonesian#ID#ID##-5#120#ID#432;1#Australian...   \n",
      "15      4#Alexandria, Al Iskandariyah, Egypt#EG#EG06#6...   \n",
      "31      4#Dubai, Dubayy, United Arab Emirates#AE#AE03#...   \n",
      "...                                                   ...   \n",
      "773834  1#Saudi Arabian#SA#SA##25#45#SA#2114;1#India#I...   \n",
      "773836  1#Hong Kong#HK#HK##22.25#114.166667#HK#225;4#R...   \n",
      "773837  1#Russia#RS#RS##60#100#RS#1774;1#Qatari#QA#QA#...   \n",
      "773839  4#Dubai, Dubayy, United Arab Emirates#AE#AE03#...   \n",
      "773844  1#India#IN#IN##20#77#IN#16;1#India#IN#IN##20#7...   \n",
      "\n",
      "                                                     tone  \\\n",
      "0       [1.76991150442478, 2.54424778761062, 0.7743362...   \n",
      "5       [0.465116279069767, 0.930232558139535, 0.46511...   \n",
      "8       [-4.93506493506493, 2.07792207792208, 7.012987...   \n",
      "15      [0.453857791225415, 5.29500756429652, 4.841149...   \n",
      "31      [3.93873085339168, 4.37636761487965, 0.4376367...   \n",
      "...                                                   ...   \n",
      "773834  [5.82706766917293, 5.82706766917293, 0, 5.8270...   \n",
      "773836  [0.719424460431655, 1.43884892086331, 0.719424...   \n",
      "773837  [0.568181818181818, 3.03030303030303, 2.462121...   \n",
      "773839  [7.73809523809524, 10.1190476190476, 2.3809523...   \n",
      "773844  [4.77657935285054, 4.77657935285054, 0, 4.7765...   \n",
      "\n",
      "                                                extrasxml  translationinfo  \\\n",
      "0                                                     NaN              NaN   \n",
      "5                                                     NaN              NaN   \n",
      "8                                                     NaN              NaN   \n",
      "15                                                    NaN              NaN   \n",
      "31                                                    NaN              NaN   \n",
      "...                                                   ...              ...   \n",
      "773834  <PAGE_TITLE>'India-Saudi relations reaching ne...              NaN   \n",
      "773836  <PAGE_PRECISEPUBTIMESTAMP>20230301085100</PAGE...              NaN   \n",
      "773837  <PAGE_LINKS>https://www.bloomberg.com/news/art...              NaN   \n",
      "773839  <PAGE_TITLE>Federal Tax Authority launches 'Ta...              NaN   \n",
      "773844  <PAGE_TITLE>\"Relationship with India top prior...              NaN   \n",
      "\n",
      "         mean_tone  \n",
      "0       125.394437  \n",
      "5        33.189369  \n",
      "8        53.346939  \n",
      "15      256.463151  \n",
      "31       66.305408  \n",
      "...            ...  \n",
      "773834   74.707841  \n",
      "773836   23.933196  \n",
      "773837   73.777056  \n",
      "773839   50.316327  \n",
      "773844   89.326877  \n",
      "\n",
      "[193108 rows x 10 columns]\n"
     ]
    }
   ],
   "source": [
    "# Definition of the filter keywords \n",
    "#country_filter = []\n",
    "theme_filter = ['TRADE','MARKET']\n",
    "\n",
    "# Filtering by theme\n",
    "filtered_df = df[df['enhancedthemes'].apply(lambda x: any(keyword in x for keyword in theme_filter))]\n",
    "# Filtering by country\n",
    "#filtered_df = filtered_df[filtered_df[''].apply(lambda x: any(keyword in x for keyword in country_filter)) or filtered_df[''].apply(lambda x: any(keyword in x for keyword in country_filter))]\n",
    "print(filtered_df)"
   ]
  },
  {
   "cell_type": "code",
   "execution_count": 17,
   "metadata": {},
   "outputs": [
    {
     "name": "stdout",
     "output_type": "stream",
     "text": [
      "date\n",
      "2015    24118\n",
      "2016    36233\n",
      "2017    30000\n",
      "2018    29438\n",
      "2019    24705\n",
      "2020    18903\n",
      "2021    14537\n",
      "2022    12999\n",
      "2023     2175\n",
      "Name: enhancedthemes, dtype: int64\n"
     ]
    }
   ],
   "source": [
    "# Count the filtered number of articles per year\n",
    "nb_articles= filtered_df.groupby(df.date.dt.year)['enhancedthemes'].count()\n",
    "print(nb_articles)"
   ]
  },
  {
   "cell_type": "code",
   "execution_count": 33,
   "metadata": {},
   "outputs": [
    {
     "name": "stdout",
     "output_type": "stream",
     "text": [
      "date\n",
      "2015    130.026312\n",
      "2016    130.700725\n",
      "2017    131.862374\n",
      "2018    122.880840\n",
      "2019    121.250576\n",
      "2020    130.767636\n",
      "2021    127.362380\n",
      "2022    126.755541\n",
      "2023    123.616901\n",
      "Name: mean_tone, dtype: float64\n"
     ]
    }
   ],
   "source": [
    "# Average of the tone of articles per year ONLY for the example // We will need to replace the mean of all values by another function\n",
    "avg_tone = filtered_df.groupby(df.date.dt.year)['mean_tone'].mean()\n",
    "print(avg_tone)\n",
    "# Here we obtain a list of the mean tone for each article of a specific year "
   ]
  }
 ],
 "metadata": {
  "kernelspec": {
   "display_name": "Python 3.9.12 ('base')",
   "language": "python",
   "name": "python3"
  },
  "language_info": {
   "codemirror_mode": {
    "name": "ipython",
    "version": 3
   },
   "file_extension": ".py",
   "mimetype": "text/x-python",
   "name": "python",
   "nbconvert_exporter": "python",
   "pygments_lexer": "ipython3",
   "version": "3.9.12"
  },
  "orig_nbformat": 4,
  "vscode": {
   "interpreter": {
    "hash": "c583b04bd300b6c5291ff1176f97d61ae1bc889ec7f2c1c609b2578a37b6e7cf"
   }
  }
 },
 "nbformat": 4,
 "nbformat_minor": 2
}
