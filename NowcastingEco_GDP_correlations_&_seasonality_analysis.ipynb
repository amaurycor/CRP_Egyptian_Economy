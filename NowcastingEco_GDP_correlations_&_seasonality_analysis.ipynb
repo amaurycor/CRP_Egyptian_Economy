{
  "nbformat": 4,
  "nbformat_minor": 0,
  "metadata": {
    "colab": {
      "provenance": []
    },
    "kernelspec": {
      "name": "python3",
      "display_name": "Python 3"
    },
    "language_info": {
      "name": "python"
    }
  },
  "cells": [
    {
      "cell_type": "markdown",
      "source": [
        "The goal of this notebook is to observe the existing correlation between GDP and the other indicators (which are kind of sub-components of this GDP).\n",
        "\n",
        "Since GDP is in yearly frequency and our results between the filtered tone of news data and GDP didn't gave us satisfying results, we are going to try to forecast indicators correlated \"as much as possible\" to the GDP.\n",
        "\n",
        "To do so we are going to plot eahc indicator with GDP and compute its Pearson correlation"
      ],
      "metadata": {
        "id": "gqNCZpt-1zjz"
      }
    },
    {
      "cell_type": "markdown",
      "source": [
        "*Objective:* \n",
        "> Observe, on a macro level, the correlation between sub-components and GDP.\n",
        "The goal is to identify sub-components highly correlated with GDP in order to nowcast them thanks to tone analysis of financial news (with the pipeline) \n"
      ],
      "metadata": {
        "id": "Rc3K0O_a2gxk"
      }
    },
    {
      "cell_type": "markdown",
      "source": [
        "### First, let's check the seasonality of each indicators"
      ],
      "metadata": {
        "id": "VISbdBn63wq9"
      }
    },
    {
      "cell_type": "markdown",
      "source": [
        "#### Visualization of the deocmpostion of indicators"
      ],
      "metadata": {
        "id": "VSE0iLdB4Fcw"
      }
    },
    {
      "cell_type": "code",
      "source": [
        "## check seasonality\n",
        "import pandas as pd\n",
        "import matplotlib.pyplot as plt\n",
        "import statsmodels.api as sm\n",
        "\n",
        "\n",
        "# Load the Excel file\n",
        "file_path = \"/Users/flickr-xc/Library/Mobile Documents/com~apple~CloudDocs/DSBA Courses/CRP/Bloomberg/Bloomberg_Data_UAE.xlsx\"\n",
        "xls = pd.ExcelFile(file_path)\n",
        "sheet_names = xls.sheet_names[1:]\n",
        "\n",
        "# Create a dictionary to store the DataFrames\n",
        "data_dict = {}\n",
        "\n",
        "# Iterate through sheet names\n",
        "for sheet_name in sheet_names:\n",
        "    # Read the sheet into a DataFrame\n",
        "    df = pd.read_excel(file_path, sheet_name=sheet_name, usecols=[0, 1])\n",
        "    # Cast 'Value' column to numeric type (int, float, etc.)\n",
        "    df['Value'] = pd.to_numeric(df['Value'])\n",
        "\n",
        "    # Convert 'Date' column to datetime format\n",
        "    df['Date'] = pd.to_datetime(df['Date'], dayfirst=True)\n",
        "    # Store the DataFrame in the dictionary\n",
        "    data_dict[sheet_name] = df\n",
        "\n",
        "# Iterate through the data dictionary\n",
        "for sheet_name, df in data_dict.items():\n",
        "    # Set the DataFrame index as a DatetimeIndex\n",
        "    df.set_index('Date', inplace=True)\n",
        "\n",
        "    # Visual Inspection\n",
        "    plt.plot(df.index, df['Value'])\n",
        "    plt.xlabel('Date')\n",
        "    plt.ylabel('Value')\n",
        "    plt.title(f'{sheet_name} Over Time')\n",
        "    plt.show()\n",
        "\n",
        "    # Decomposition Analysis\n",
        "    decomposition = sm.tsa.seasonal_decompose(df['Value'], model='additive')\n",
        "\n",
        "    # Plot the seasonal component\n",
        "    plt.plot(decomposition.seasonal.index, decomposition.seasonal)\n",
        "    plt.xlabel('Date')\n",
        "    plt.ylabel('Seasonal Component')\n",
        "    plt.title(f'Seasonal Component of {sheet_name}')\n",
        "    plt.show()\n"
      ],
      "metadata": {
        "id": "kMzaE1t-34R7"
      },
      "execution_count": null,
      "outputs": []
    },
    {
      "cell_type": "markdown",
      "source": [
        "#### Removing seasonality"
      ],
      "metadata": {
        "id": "c8QI4Sy74Kjo"
      }
    },
    {
      "cell_type": "code",
      "source": [
        "## Remove seasonality\n",
        "\n",
        "# Create a dictionary to store the deseasonalized DataFrames\n",
        "deseasonalized_data = {}\n",
        "\n",
        "# Iterate through the data dictionary\n",
        "for sheet_name, df in data_dict.items():\n",
        "\n",
        "    # Perform seasonal decomposition using statsmodels\n",
        "    decomposition = sm.tsa.seasonal_decompose(df['Value'], model='additive')\n",
        "\n",
        "    # Obtain the deseasonalized values\n",
        "    deseasonalized_values = df['Value'] - decomposition.seasonal\n",
        "\n",
        "    # Create a new DataFrame with deseasonalized values\n",
        "    deseasonalized_df = pd.DataFrame({'Date': df.index, 'Deseasonalized_Value': deseasonalized_values})\n",
        "\n",
        "    # Store the deseasonalized DataFrame in the dictionary\n",
        "    deseasonalized_data[sheet_name] = deseasonalized_df"
      ],
      "metadata": {
        "id": "1fqte8g34LvY"
      },
      "execution_count": null,
      "outputs": []
    },
    {
      "cell_type": "markdown",
      "source": [
        "### Let's plot and compute the correlation between GDP and indicators"
      ],
      "metadata": {
        "id": "uNClz0eU30e6"
      }
    },
    {
      "cell_type": "code",
      "execution_count": null,
      "metadata": {
        "id": "OLLjjpfh1b0U"
      },
      "outputs": [],
      "source": [
        "import pandas as pd\n",
        "import matplotlib.pyplot as plt\n",
        "from scipy.stats import pearsonr\n",
        "\n",
        "# Read the Excel file into a pandas DataFrame\n",
        "excel_file = 'Differentiated data.xlsx'\n",
        "dfs = pd.read_excel(excel_file, sheet_name=None)\n",
        "\n",
        "# Get the names of all sheets\n",
        "sheet_names = list(dfs.keys())\n",
        "\n",
        "# Get the data from the first sheet\n",
        "first_sheet_name = sheet_names[2] # since the two first sheet are 1. summary of the indicators 2. an unexploitable version of GDP\n",
        "print(first_sheet_name)\n",
        "first_sheet_data = dfs[first_sheet_name]\n",
        "\n",
        "# Iterate over the remaining sheets\n",
        "for sheet_name in sheet_names[3:]:\n",
        "    # Create a figure and axis objects\n",
        "    fig, ax1 = plt.subplots()\n",
        "    ax2 = ax1.twinx()\n",
        "    # Get the data from the current sheet\n",
        "    current_sheet_data = dfs[sheet_name]\n",
        "    current_sheet_data['year'] = current_sheet_data['Date'].dt.to_period('2Y')\n",
        "    # Convert Period to datetime\n",
        "    current_sheet_data['year'] = current_sheet_data['year'].dt.to_timestamp()\n",
        "    # Plot the current sheet's data with the first sheet's data\n",
        "    ax1.plot(first_sheet_data['Date'], first_sheet_data['Value'], label=first_sheet_name)\n",
        "    ax2.plot(current_sheet_data.groupby(current_sheet_data['year'])['Value'].mean(), label=sheet_name,color='g')\n",
        "\n",
        "    # Set the labels and titles for each y-axis\n",
        "    ax1.set_xlabel('Date')\n",
        "    ax1.set_ylabel(first_sheet_name, color='tab:blue')\n",
        "    ax2.set_ylabel(sheet_name, color='tab:green')\n",
        "    \n",
        "    # Display a legend for each plot\n",
        "    ax1.legend(loc='upper left')\n",
        "    ax2.legend(loc='upper right')\n",
        "    \n",
        "    # Show the plot\n",
        "    plt.show()"
      ]
    },
    {
      "cell_type": "code",
      "source": [
        "# SELECT THE DESIRED INDICATOR\n",
        "current_sheet_data = dfs['Foreign Invests']\n",
        "\n",
        "# Assuming 'Date' column contains date/time values in string format\n",
        "current_sheet_data['Date'] = pd.to_datetime(current_sheet_data['Date'])\n",
        "\n",
        "# Set 'Date' column as the index\n",
        "current_sheet_data.set_index('Date', inplace=True)\n",
        "\n",
        "# Resample the DataFrame\n",
        "current_sheet_data_resampled = current_sheet_data.resample('2Y', convention='end').mean()\n",
        "\n",
        "ind = current_sheet_data.groupby(current_sheet_data['year'])['Value'].mean()"
      ],
      "metadata": {
        "id": "fvtJMABw24Hc"
      },
      "execution_count": null,
      "outputs": []
    },
    {
      "cell_type": "code",
      "source": [
        "# GDP time series\n",
        "gdp = first_sheet_data['Value'].loc[:6] # from 2016 to 2022\n",
        "gdp = gdp[::-1]\n",
        "gdp\n",
        "\n",
        "# Indicator time series\n",
        "final_ind = ind[3:] #adjust the starting point to match with the gdp time series"
      ],
      "metadata": {
        "id": "zYcHsYqQ2pJu"
      },
      "execution_count": null,
      "outputs": []
    },
    {
      "cell_type": "code",
      "source": [
        "corr,t= pearsonr(final_ind,gdp)\n",
        "print(corr,t)"
      ],
      "metadata": {
        "id": "36-IhuHM27mn"
      },
      "execution_count": null,
      "outputs": []
    }
  ]
}