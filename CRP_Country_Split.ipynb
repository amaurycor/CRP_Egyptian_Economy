{
 "cells": [
  {
   "cell_type": "code",
   "execution_count": 21,
   "metadata": {},
   "outputs": [],
   "source": [
    "import pandas as pd\n",
    "from datetime import datetime"
   ]
  },
  {
   "cell_type": "code",
   "execution_count": 23,
   "metadata": {},
   "outputs": [
    {
     "name": "stderr",
     "output_type": "stream",
     "text": [
      "/var/folders/jn/gt3868vd039by14gxmgb54b40000gn/T/ipykernel_39282/2082097811.py:2: DtypeWarning: Columns (7) have mixed types. Specify dtype option on import or set low_memory=False.\n",
      "  df = pd.read_csv('/Users/flickr-xc/Library/Mobile Documents/com~apple~CloudDocs/DSBA Courses/CRP/headlines_english_arabic_countries.csv', delimiter=',')\n"
     ]
    }
   ],
   "source": [
    "# Data import\n",
    "df = pd.read_csv('/Users/flickr-xc/Library/Mobile Documents/com~apple~CloudDocs/DSBA Courses/CRP/headlines_english_arabic_countries.csv', delimiter=',')"
   ]
  },
  {
   "cell_type": "code",
   "execution_count": 24,
   "metadata": {},
   "outputs": [
    {
     "name": "stdout",
     "output_type": "stream",
     "text": [
      "<class 'pandas.core.frame.DataFrame'>\n",
      "RangeIndex: 773846 entries, 0 to 773845\n",
      "Data columns (total 9 columns):\n",
      " #   Column               Non-Null Count   Dtype  \n",
      "---  ------               --------------   -----  \n",
      " 0   gkgrecordid          773846 non-null  object \n",
      " 1   date                 773846 non-null  float64\n",
      " 2   subsourcecommonname  773743 non-null  object \n",
      " 3   documentidentifier   773846 non-null  object \n",
      " 4   enhancedthemes       693173 non-null  object \n",
      " 5   enhancedlocations    773846 non-null  object \n",
      " 6   tone                 773846 non-null  object \n",
      " 7   extrasxml            551861 non-null  object \n",
      " 8   translationinfo      0 non-null       float64\n",
      "dtypes: float64(2), object(7)\n",
      "memory usage: 53.1+ MB\n"
     ]
    },
    {
     "data": {
      "text/html": [
       "<div>\n",
       "<style scoped>\n",
       "    .dataframe tbody tr th:only-of-type {\n",
       "        vertical-align: middle;\n",
       "    }\n",
       "\n",
       "    .dataframe tbody tr th {\n",
       "        vertical-align: top;\n",
       "    }\n",
       "\n",
       "    .dataframe thead th {\n",
       "        text-align: right;\n",
       "    }\n",
       "</style>\n",
       "<table border=\"1\" class=\"dataframe\">\n",
       "  <thead>\n",
       "    <tr style=\"text-align: right;\">\n",
       "      <th></th>\n",
       "      <th>gkgrecordid</th>\n",
       "      <th>date</th>\n",
       "      <th>subsourcecommonname</th>\n",
       "      <th>documentidentifier</th>\n",
       "      <th>enhancedthemes</th>\n",
       "      <th>enhancedlocations</th>\n",
       "      <th>tone</th>\n",
       "      <th>extrasxml</th>\n",
       "      <th>translationinfo</th>\n",
       "    </tr>\n",
       "  </thead>\n",
       "  <tbody>\n",
       "    <tr>\n",
       "      <th>0</th>\n",
       "      <td>20151011213000-456</td>\n",
       "      <td>2.015101e+13</td>\n",
       "      <td>dailynewsegypt.com</td>\n",
       "      <td>http://www.dailynewsegypt.com/2015/10/11/tgm-m...</td>\n",
       "      <td>ECON_WORLDCURRENCIES_DOLLAR,2612;ECON_WORLDCUR...</td>\n",
       "      <td>4#Milan, Lombardia, Italy#IT#IT09#18363#45.466...</td>\n",
       "      <td>1.76991150442478,2.54424778761062,0.7743362831...</td>\n",
       "      <td>NaN</td>\n",
       "      <td>NaN</td>\n",
       "    </tr>\n",
       "    <tr>\n",
       "      <th>1</th>\n",
       "      <td>20151011213000-1551</td>\n",
       "      <td>2.015101e+13</td>\n",
       "      <td>gizmodo.com.au</td>\n",
       "      <td>http://www.gizmodo.com.au/2015/10/5-ideas-that...</td>\n",
       "      <td>MANMADE_DISASTER_IMPLIED,58;MANMADE_DISASTER_I...</td>\n",
       "      <td>3#Manhattan, New York, United States#US#USNY#N...</td>\n",
       "      <td>0.843320017754106,2.13049267643142,1.287172658...</td>\n",
       "      <td>NaN</td>\n",
       "      <td>NaN</td>\n",
       "    </tr>\n",
       "    <tr>\n",
       "      <th>2</th>\n",
       "      <td>20151011213000-1644</td>\n",
       "      <td>2.015101e+13</td>\n",
       "      <td>competitor.com</td>\n",
       "      <td>http://velonews.competitor.com/2015/10/news/ch...</td>\n",
       "      <td>WB_2670_JOBS,696;WB_2815_SKILLS_AND_EDUCATION,...</td>\n",
       "      <td>4#Abu Dhabi, Abu ZÂ¸Aby, United Arab Emirates#...</td>\n",
       "      <td>4.83271375464684,4.83271375464684,0,4.83271375...</td>\n",
       "      <td>NaN</td>\n",
       "      <td>NaN</td>\n",
       "    </tr>\n",
       "    <tr>\n",
       "      <th>3</th>\n",
       "      <td>20151016043000-1997</td>\n",
       "      <td>2.015102e+13</td>\n",
       "      <td>daily-chronicle.com</td>\n",
       "      <td>http://www.daily-chronicle.com/2015/10/15/saud...</td>\n",
       "      <td>GENERAL_GOVERNMENT,620;GENERAL_GOVERNMENT,4524...</td>\n",
       "      <td>4#Baghdad, Baghdad, Iraq#IZ#IZ07#36785#33.3386...</td>\n",
       "      <td>-4.35754189944134,1.11731843575419,5.474860335...</td>\n",
       "      <td>NaN</td>\n",
       "      <td>NaN</td>\n",
       "    </tr>\n",
       "    <tr>\n",
       "      <th>4</th>\n",
       "      <td>20151011150000-503</td>\n",
       "      <td>2.015101e+13</td>\n",
       "      <td>dailynewsegypt.com</td>\n",
       "      <td>http://www.dailynewsegypt.com/2015/10/11/sharp...</td>\n",
       "      <td>KIDNAP,2150;EXTREMISM,2184;BORDER,2772;TAX_REL...</td>\n",
       "      <td>4#Gaza, Israel (General), Israel#IS#IS00#18315...</td>\n",
       "      <td>-9.05730129390018,0.924214417744917,9.98151571...</td>\n",
       "      <td>NaN</td>\n",
       "      <td>NaN</td>\n",
       "    </tr>\n",
       "  </tbody>\n",
       "</table>\n",
       "</div>"
      ],
      "text/plain": [
       "           gkgrecordid          date  subsourcecommonname  \\\n",
       "0   20151011213000-456  2.015101e+13   dailynewsegypt.com   \n",
       "1  20151011213000-1551  2.015101e+13       gizmodo.com.au   \n",
       "2  20151011213000-1644  2.015101e+13       competitor.com   \n",
       "3  20151016043000-1997  2.015102e+13  daily-chronicle.com   \n",
       "4   20151011150000-503  2.015101e+13   dailynewsegypt.com   \n",
       "\n",
       "                                  documentidentifier  \\\n",
       "0  http://www.dailynewsegypt.com/2015/10/11/tgm-m...   \n",
       "1  http://www.gizmodo.com.au/2015/10/5-ideas-that...   \n",
       "2  http://velonews.competitor.com/2015/10/news/ch...   \n",
       "3  http://www.daily-chronicle.com/2015/10/15/saud...   \n",
       "4  http://www.dailynewsegypt.com/2015/10/11/sharp...   \n",
       "\n",
       "                                      enhancedthemes  \\\n",
       "0  ECON_WORLDCURRENCIES_DOLLAR,2612;ECON_WORLDCUR...   \n",
       "1  MANMADE_DISASTER_IMPLIED,58;MANMADE_DISASTER_I...   \n",
       "2  WB_2670_JOBS,696;WB_2815_SKILLS_AND_EDUCATION,...   \n",
       "3  GENERAL_GOVERNMENT,620;GENERAL_GOVERNMENT,4524...   \n",
       "4  KIDNAP,2150;EXTREMISM,2184;BORDER,2772;TAX_REL...   \n",
       "\n",
       "                                   enhancedlocations  \\\n",
       "0  4#Milan, Lombardia, Italy#IT#IT09#18363#45.466...   \n",
       "1  3#Manhattan, New York, United States#US#USNY#N...   \n",
       "2  4#Abu Dhabi, Abu ZÂ¸Aby, United Arab Emirates#...   \n",
       "3  4#Baghdad, Baghdad, Iraq#IZ#IZ07#36785#33.3386...   \n",
       "4  4#Gaza, Israel (General), Israel#IS#IS00#18315...   \n",
       "\n",
       "                                                tone extrasxml  \\\n",
       "0  1.76991150442478,2.54424778761062,0.7743362831...       NaN   \n",
       "1  0.843320017754106,2.13049267643142,1.287172658...       NaN   \n",
       "2  4.83271375464684,4.83271375464684,0,4.83271375...       NaN   \n",
       "3  -4.35754189944134,1.11731843575419,5.474860335...       NaN   \n",
       "4  -9.05730129390018,0.924214417744917,9.98151571...       NaN   \n",
       "\n",
       "   translationinfo  \n",
       "0              NaN  \n",
       "1              NaN  \n",
       "2              NaN  \n",
       "3              NaN  \n",
       "4              NaN  "
      ]
     },
     "execution_count": 24,
     "metadata": {},
     "output_type": "execute_result"
    }
   ],
   "source": [
    "df.info()\n",
    "df.head()"
   ]
  },
  {
   "cell_type": "markdown",
   "metadata": {},
   "source": [
    "# Preprocessing"
   ]
  },
  {
   "cell_type": "code",
   "execution_count": 25,
   "metadata": {},
   "outputs": [
    {
     "data": {
      "text/plain": [
       "0        2015-10-11 21:30:00\n",
       "1        2015-10-11 21:30:00\n",
       "2        2015-10-11 21:30:00\n",
       "3        2015-10-16 04:30:00\n",
       "4        2015-10-11 15:00:00\n",
       "                 ...        \n",
       "773841   2023-03-07 13:45:00\n",
       "773842   2023-03-07 19:15:00\n",
       "773843   2023-03-07 19:15:00\n",
       "773844   2023-03-07 19:15:00\n",
       "773845   2023-03-07 19:15:00\n",
       "Name: date, Length: 773846, dtype: datetime64[ns]"
      ]
     },
     "execution_count": 25,
     "metadata": {},
     "output_type": "execute_result"
    }
   ],
   "source": [
    "# Date conversion\n",
    "df.date = df.date.apply(lambda x: datetime.strptime(str(int(x)), '%Y%m%d%H%M%S'))\n",
    "df.date"
   ]
  },
  {
   "cell_type": "code",
   "execution_count": 26,
   "metadata": {},
   "outputs": [
    {
     "data": {
      "text/plain": [
       "7    773846\n",
       "Name: tone, dtype: int64"
      ]
     },
     "execution_count": 26,
     "metadata": {},
     "output_type": "execute_result"
    }
   ],
   "source": [
    "(df['tone'].str.count(',') + 1).value_counts()"
   ]
  },
  {
   "cell_type": "code",
   "execution_count": 34,
   "metadata": {},
   "outputs": [],
   "source": [
    "#  Cleaning of the headlines\n",
    "def themes_cleaning(s_):\n",
    "    s_ = str(s_)\n",
    "    modified_str = [elem.split(',')[0] for elem in s_.split(';')] # delete the number after the coma\n",
    "\n",
    "    final_str=[]\n",
    "    separator=' '\n",
    "    for s in modified_str:\n",
    "        if s.split('_')[0]=='WB':\n",
    "            final_str.append(separator.join(s.split('_')[2:]).split(' ')) # delete the prefix 'WB_XXX', remove underscore and split each word\n",
    "        else:\n",
    "            final_str.append(separator.join(s.split('_')).split(' '))\n",
    "\n",
    "    # to get a list of words and not a list of sub lists\n",
    "    merged_list = []\n",
    "    for sublist in final_str:\n",
    "        merged_list.extend(sublist)\n",
    "    \n",
    "    merged_list = merged_list[:-1] if merged_list and merged_list[-1] == '' else merged_list\n",
    "\n",
    "    return(merged_list) "
   ]
  },
  {
   "cell_type": "code",
   "execution_count": 36,
   "metadata": {},
   "outputs": [
    {
     "name": "stdout",
     "output_type": "stream",
     "text": [
      "['DISPUTE', 'RESOLUTION', 'DISPUTE', 'RESOLUTION', 'TEST', 'TESTOS'] DISPUTE\n"
     ]
    }
   ],
   "source": [
    "# Test of cleaning\n",
    "original_str = 'WB_843_DISPUTE_RESOLUTION,1137;WB_843_DISPUTE_RESOLUTION,2805;TEST_TESTOS,2021'\n",
    "res = themes_cleaning(original_str)\n",
    "print(res, res[0])"
   ]
  },
  {
   "cell_type": "code",
   "execution_count": 39,
   "metadata": {},
   "outputs": [],
   "source": [
    "df['adj_enhancedthemes'] = df.enhancedthemes.apply(lambda x: themes_cleaning(x))"
   ]
  },
  {
   "cell_type": "code",
   "execution_count": 40,
   "metadata": {},
   "outputs": [
    {
     "name": "stderr",
     "output_type": "stream",
     "text": [
      "[nltk_data] Downloading package stopwords to /Users/flickr-\n",
      "[nltk_data]     xc/nltk_data...\n",
      "[nltk_data]   Package stopwords is already up-to-date!\n"
     ]
    }
   ],
   "source": [
    "import nltk\n",
    "from nltk.corpus import stopwords\n",
    "\n",
    "nltk.download('stopwords')\n",
    "stop_words = set(stopwords.words('english'))\n",
    "\n",
    "def remove_stopwords(text):\n",
    "    filtered_text = [word for word in text if word.lower() not in stop_words]\n",
    "    return filtered_text"
   ]
  },
  {
   "cell_type": "code",
   "execution_count": 41,
   "metadata": {},
   "outputs": [],
   "source": [
    "df['adj_enhancedthemes'] = df['adj_enhancedthemes'].apply(lambda x: remove_stopwords(x))"
   ]
  },
  {
   "cell_type": "code",
   "execution_count": 43,
   "metadata": {
    "scrolled": true
   },
   "outputs": [
    {
     "data": {
      "text/plain": [
       "['ECON',\n",
       " 'TAXATION',\n",
       " 'ECON',\n",
       " 'TAXATION',\n",
       " 'ECON',\n",
       " 'TAXATION',\n",
       " 'ECON',\n",
       " 'TAXATION',\n",
       " 'ECON',\n",
       " 'TAXATION',\n",
       " 'ECON',\n",
       " 'TAXATION',\n",
       " 'ECON',\n",
       " 'TAXATION',\n",
       " 'ECON',\n",
       " 'TAXATION',\n",
       " 'ECON',\n",
       " 'TAXATION',\n",
       " 'ECON',\n",
       " 'TAXATION',\n",
       " 'ECON',\n",
       " 'TAXATION',\n",
       " 'ECON',\n",
       " 'TAXATION',\n",
       " 'ECON',\n",
       " 'TAXATION',\n",
       " 'ECON',\n",
       " 'TAXATION',\n",
       " 'ECON',\n",
       " 'TAXATION',\n",
       " 'ECON',\n",
       " 'TAXATION',\n",
       " 'ECON',\n",
       " 'TAXATION',\n",
       " 'ECON',\n",
       " 'TAXATION',\n",
       " 'ECON',\n",
       " 'TAXATION',\n",
       " 'USPEC',\n",
       " 'POLICY1',\n",
       " 'USPEC',\n",
       " 'POLICY1',\n",
       " 'USPEC',\n",
       " 'POLICY1',\n",
       " 'USPEC',\n",
       " 'POLICY1',\n",
       " 'USPEC',\n",
       " 'POLICY1',\n",
       " 'USPEC',\n",
       " 'POLICY1',\n",
       " 'USPEC',\n",
       " 'POLICY1',\n",
       " 'USPEC',\n",
       " 'POLICY1',\n",
       " 'USPEC',\n",
       " 'POLICY1',\n",
       " 'USPEC',\n",
       " 'POLICY1',\n",
       " 'USPEC',\n",
       " 'POLICY1',\n",
       " 'USPEC',\n",
       " 'POLICY1',\n",
       " 'USPEC',\n",
       " 'POLICY1',\n",
       " 'USPEC',\n",
       " 'POLICY1',\n",
       " 'USPEC',\n",
       " 'POLICY1',\n",
       " 'USPEC',\n",
       " 'POLICY1',\n",
       " 'USPEC',\n",
       " 'POLICY1',\n",
       " 'USPEC',\n",
       " 'POLICY1',\n",
       " 'USPEC',\n",
       " 'POLICY1',\n",
       " 'TAX',\n",
       " 'FNCACT',\n",
       " 'MINISTER',\n",
       " 'TAX',\n",
       " 'FNCACT',\n",
       " 'MINISTER',\n",
       " 'TAX',\n",
       " 'FNCACT',\n",
       " 'MINISTER',\n",
       " 'TAX',\n",
       " 'FNCACT',\n",
       " 'MINISTER',\n",
       " 'TAX',\n",
       " 'FNCACT',\n",
       " 'MINISTER']"
      ]
     },
     "execution_count": 43,
     "metadata": {},
     "output_type": "execute_result"
    }
   ],
   "source": [
    "df.adj_enhancedthemes.iloc[7]"
   ]
  },
  {
   "cell_type": "code",
   "execution_count": 44,
   "metadata": {},
   "outputs": [],
   "source": [
    "#  Cleaning of the locations\n",
    "def locations_cleaning(s_):\n",
    "    s_ = str(s_)\n",
    "    modified_str = [elem.split('#')[1] for elem in s_.split(';')]\n",
    "    final_str = [elem.split(', ') for elem in modified_str ]\n",
    "    merged_list = []\n",
    "    for sublist in final_str:\n",
    "        merged_list.append(sublist[-1]) # we only keep the titles of country\n",
    "    return(merged_list) \n"
   ]
  },
  {
   "cell_type": "code",
   "execution_count": 45,
   "metadata": {},
   "outputs": [
    {
     "name": "stdout",
     "output_type": "stream",
     "text": [
      "1#Indonesian#ID#ID##-5#120#ID#432;1#Australian#AS#AS##-27#133#AS#973;4#Sydney, New South Wales, Australia#AS#AS02#154637#-33.8833#151.217#-1603135#2342;1#Australia#AS#AS##-27#133#AS#238;1#Australia#AS#AS##-27#133#AS#331;1#Australia#AS#AS##-27#133#AS#1787;1#Australia#AS#AS##-27#133#AS#2353;1#Oman#MU#MU##21#57#MU#1038;1#United Arab Emirates#AE#AE##24#54#AE#1077;1#Kuwait#KU#KU##29.3375#47.6581#KU#1970;3#Hollywood, California, United States#US#USCA#CA037#34.0983#-118.327#1660757#1656\n",
      "['Indonesian', 'Australian', 'Australia', 'Australia', 'Australia', 'Australia', 'Australia', 'Oman', 'United Arab Emirates', 'Kuwait', 'United States']\n"
     ]
    }
   ],
   "source": [
    "# Test of cleaning\n",
    "print(df.enhancedlocations.iloc[8])\n",
    "res = locations_cleaning(df.enhancedlocations.iloc[8])\n",
    "print(res)"
   ]
  },
  {
   "cell_type": "code",
   "execution_count": 46,
   "metadata": {},
   "outputs": [],
   "source": [
    "df['adj_enhancedlocations'] = df.enhancedlocations.apply(lambda x: locations_cleaning(x))"
   ]
  },
  {
   "cell_type": "code",
   "execution_count": 48,
   "metadata": {
    "scrolled": true
   },
   "outputs": [
    {
     "data": {
      "text/plain": [
       "gkgrecordid                   0\n",
       "date                          0\n",
       "subsourcecommonname           0\n",
       "documentidentifier            0\n",
       "enhancedthemes                0\n",
       "enhancedlocations             0\n",
       "tone                          0\n",
       "extrasxml                206398\n",
       "translationinfo          693073\n",
       "adj_enhancedthemes            0\n",
       "adj_enhancedlocations         0\n",
       "dtype: int64"
      ]
     },
     "execution_count": 48,
     "metadata": {},
     "output_type": "execute_result"
    }
   ],
   "source": [
    "# Drop empty headlines\n",
    "df = df.dropna(subset=['enhancedthemes'])\n",
    "df = df.dropna(subset=['subsourcecommonname'])\n",
    "df.isnull().sum()"
   ]
  },
  {
   "cell_type": "code",
   "execution_count": 49,
   "metadata": {},
   "outputs": [],
   "source": [
    "# add three columns which specify the proportion of occurrence of Egypt, UAE and KSA\n",
    "def calculate_proportion(names,criteria):\n",
    "    return sum(1 for name in names if any(criterion in name.lower() for criterion in criteria) ) / len(names)\n",
    "\n",
    "# Add a new column to the DataFrame with the proportion of 'China' or 'Chinese'\n",
    "df['Egypt Proportion'] = df.adj_enhancedlocations.apply(lambda x : calculate_proportion(x,['egypt','egyptian']))\n",
    "df['UAE Proportion'] = df.adj_enhancedlocations.apply(lambda x : calculate_proportion(x,['united arab emirates','uae']))\n",
    "df['KSA Proportion'] = df.adj_enhancedlocations.apply(lambda x : calculate_proportion(x,['ksa','saudi arabia','king of saudi arabia']))\n",
    "\n"
   ]
  },
  {
   "cell_type": "code",
   "execution_count": 50,
   "metadata": {},
   "outputs": [
    {
     "data": {
      "text/html": [
       "<div>\n",
       "<style scoped>\n",
       "    .dataframe tbody tr th:only-of-type {\n",
       "        vertical-align: middle;\n",
       "    }\n",
       "\n",
       "    .dataframe tbody tr th {\n",
       "        vertical-align: top;\n",
       "    }\n",
       "\n",
       "    .dataframe thead th {\n",
       "        text-align: right;\n",
       "    }\n",
       "</style>\n",
       "<table border=\"1\" class=\"dataframe\">\n",
       "  <thead>\n",
       "    <tr style=\"text-align: right;\">\n",
       "      <th></th>\n",
       "      <th>Egypt Proportion</th>\n",
       "      <th>UAE Proportion</th>\n",
       "      <th>KSA Proportion</th>\n",
       "    </tr>\n",
       "  </thead>\n",
       "  <tbody>\n",
       "    <tr>\n",
       "      <th>0</th>\n",
       "      <td>0.863636</td>\n",
       "      <td>0.045455</td>\n",
       "      <td>0.000000</td>\n",
       "    </tr>\n",
       "    <tr>\n",
       "      <th>1</th>\n",
       "      <td>0.000000</td>\n",
       "      <td>0.013699</td>\n",
       "      <td>0.000000</td>\n",
       "    </tr>\n",
       "    <tr>\n",
       "      <th>2</th>\n",
       "      <td>0.000000</td>\n",
       "      <td>1.000000</td>\n",
       "      <td>0.000000</td>\n",
       "    </tr>\n",
       "    <tr>\n",
       "      <th>3</th>\n",
       "      <td>0.000000</td>\n",
       "      <td>0.000000</td>\n",
       "      <td>0.111111</td>\n",
       "    </tr>\n",
       "    <tr>\n",
       "      <th>4</th>\n",
       "      <td>0.555556</td>\n",
       "      <td>0.000000</td>\n",
       "      <td>0.000000</td>\n",
       "    </tr>\n",
       "    <tr>\n",
       "      <th>...</th>\n",
       "      <td>...</td>\n",
       "      <td>...</td>\n",
       "      <td>...</td>\n",
       "    </tr>\n",
       "    <tr>\n",
       "      <th>773840</th>\n",
       "      <td>0.000000</td>\n",
       "      <td>1.000000</td>\n",
       "      <td>0.000000</td>\n",
       "    </tr>\n",
       "    <tr>\n",
       "      <th>773841</th>\n",
       "      <td>0.000000</td>\n",
       "      <td>0.000000</td>\n",
       "      <td>0.088235</td>\n",
       "    </tr>\n",
       "    <tr>\n",
       "      <th>773842</th>\n",
       "      <td>0.000000</td>\n",
       "      <td>0.666667</td>\n",
       "      <td>0.000000</td>\n",
       "    </tr>\n",
       "    <tr>\n",
       "      <th>773844</th>\n",
       "      <td>0.000000</td>\n",
       "      <td>0.000000</td>\n",
       "      <td>0.178571</td>\n",
       "    </tr>\n",
       "    <tr>\n",
       "      <th>773845</th>\n",
       "      <td>0.000000</td>\n",
       "      <td>0.291667</td>\n",
       "      <td>0.000000</td>\n",
       "    </tr>\n",
       "  </tbody>\n",
       "</table>\n",
       "<p>693073 rows × 3 columns</p>\n",
       "</div>"
      ],
      "text/plain": [
       "        Egypt Proportion  UAE Proportion  KSA Proportion\n",
       "0               0.863636        0.045455        0.000000\n",
       "1               0.000000        0.013699        0.000000\n",
       "2               0.000000        1.000000        0.000000\n",
       "3               0.000000        0.000000        0.111111\n",
       "4               0.555556        0.000000        0.000000\n",
       "...                  ...             ...             ...\n",
       "773840          0.000000        1.000000        0.000000\n",
       "773841          0.000000        0.000000        0.088235\n",
       "773842          0.000000        0.666667        0.000000\n",
       "773844          0.000000        0.000000        0.178571\n",
       "773845          0.000000        0.291667        0.000000\n",
       "\n",
       "[693073 rows x 3 columns]"
      ]
     },
     "execution_count": 50,
     "metadata": {},
     "output_type": "execute_result"
    }
   ],
   "source": [
    "df.iloc[:,-3:]"
   ]
  },
  {
   "cell_type": "markdown",
   "metadata": {},
   "source": [
    "# Split the Dataset"
   ]
  },
  {
   "cell_type": "code",
   "execution_count": 51,
   "metadata": {},
   "outputs": [],
   "source": [
    "# Filter the news whose enhancedthemes contain UAE/KSA/EGYPT respectively \n",
    "# and whose proportion of occurrence among all the mentioned locations should be higher than 30%\n",
    "\n",
    "condition_egypt = (df['Egypt Proportion'].apply(lambda x: x > 0.3) ) & \\\n",
    "            (df['adj_enhancedthemes'].apply(lambda x: any(keyword in x for keyword in ['EGYPT','EGYPTIAN'])))\n",
    "df_EGYPT = df[condition_egypt]\n",
    "\n",
    "condition_uae = (df['UAE Proportion'].apply(lambda x: x > 0.3) ) & \\\n",
    "            (df['adj_enhancedthemes'].apply(lambda x: any(keyword in x for keyword in ['UAE','ARAB','ERAMITES'])))\n",
    "df_UAE = df[condition_uae]\n",
    "\n",
    "condition_ksa = (df['KSA Proportion'].apply(lambda x: x > 0.3) ) & \\\n",
    "            (df['adj_enhancedthemes'].apply(lambda x: any(keyword in x for keyword in ['KSA','SAUDI','ARABIA'])))\n",
    "df_KSA = df[condition_ksa]\n"
   ]
  },
  {
   "cell_type": "code",
   "execution_count": 52,
   "metadata": {},
   "outputs": [
    {
     "name": "stdout",
     "output_type": "stream",
     "text": [
      "<class 'pandas.core.frame.DataFrame'>\n",
      "Int64Index: 71740 entries, 2 to 773842\n",
      "Data columns (total 14 columns):\n",
      " #   Column                 Non-Null Count  Dtype         \n",
      "---  ------                 --------------  -----         \n",
      " 0   gkgrecordid            71740 non-null  object        \n",
      " 1   date                   71740 non-null  datetime64[ns]\n",
      " 2   subsourcecommonname    71740 non-null  object        \n",
      " 3   documentidentifier     71740 non-null  object        \n",
      " 4   enhancedthemes         71740 non-null  object        \n",
      " 5   enhancedlocations      71740 non-null  object        \n",
      " 6   tone                   71740 non-null  object        \n",
      " 7   extrasxml              52130 non-null  object        \n",
      " 8   translationinfo        0 non-null      float64       \n",
      " 9   adj_enhancedthemes     71740 non-null  object        \n",
      " 10  adj_enhancedlocations  71740 non-null  object        \n",
      " 11  Egypt Proportion       71740 non-null  float64       \n",
      " 12  UAE Proportion         71740 non-null  float64       \n",
      " 13  KSA Proportion         71740 non-null  float64       \n",
      "dtypes: datetime64[ns](1), float64(4), object(9)\n",
      "memory usage: 8.2+ MB\n"
     ]
    },
    {
     "data": {
      "text/html": [
       "<div>\n",
       "<style scoped>\n",
       "    .dataframe tbody tr th:only-of-type {\n",
       "        vertical-align: middle;\n",
       "    }\n",
       "\n",
       "    .dataframe tbody tr th {\n",
       "        vertical-align: top;\n",
       "    }\n",
       "\n",
       "    .dataframe thead th {\n",
       "        text-align: right;\n",
       "    }\n",
       "</style>\n",
       "<table border=\"1\" class=\"dataframe\">\n",
       "  <thead>\n",
       "    <tr style=\"text-align: right;\">\n",
       "      <th></th>\n",
       "      <th>gkgrecordid</th>\n",
       "      <th>date</th>\n",
       "      <th>subsourcecommonname</th>\n",
       "      <th>documentidentifier</th>\n",
       "      <th>enhancedthemes</th>\n",
       "      <th>enhancedlocations</th>\n",
       "      <th>tone</th>\n",
       "      <th>extrasxml</th>\n",
       "      <th>translationinfo</th>\n",
       "      <th>adj_enhancedthemes</th>\n",
       "      <th>adj_enhancedlocations</th>\n",
       "      <th>Egypt Proportion</th>\n",
       "      <th>UAE Proportion</th>\n",
       "      <th>KSA Proportion</th>\n",
       "    </tr>\n",
       "  </thead>\n",
       "  <tbody>\n",
       "    <tr>\n",
       "      <th>2</th>\n",
       "      <td>20151011213000-1644</td>\n",
       "      <td>2015-10-11 21:30:00</td>\n",
       "      <td>competitor.com</td>\n",
       "      <td>http://velonews.competitor.com/2015/10/news/ch...</td>\n",
       "      <td>WB_2670_JOBS,696;WB_2815_SKILLS_AND_EDUCATION,...</td>\n",
       "      <td>4#Abu Dhabi, Abu ZÂ¸Aby, United Arab Emirates#...</td>\n",
       "      <td>4.83271375464684,4.83271375464684,0,4.83271375...</td>\n",
       "      <td>NaN</td>\n",
       "      <td>NaN</td>\n",
       "      <td>[JOBS, SKILLS, EDUCATION, JOBS, STRATEGIES, TR...</td>\n",
       "      <td>[United Arab Emirates]</td>\n",
       "      <td>0.0</td>\n",
       "      <td>1.000000</td>\n",
       "      <td>0.0</td>\n",
       "    </tr>\n",
       "    <tr>\n",
       "      <th>5</th>\n",
       "      <td>20151011150000-539</td>\n",
       "      <td>2015-10-11 15:00:00</td>\n",
       "      <td>yahoo.com</td>\n",
       "      <td>https://en-maktoob.news.yahoo.com/mideast-stoc...</td>\n",
       "      <td>ECON_OILPRICE,114;ECON_STOCKMARKET,52;ECON_STO...</td>\n",
       "      <td>4#First Gulf Bank, Dubayy, United Arab Emirate...</td>\n",
       "      <td>0.465116279069767,0.930232558139535,0.46511627...</td>\n",
       "      <td>NaN</td>\n",
       "      <td>NaN</td>\n",
       "      <td>[ECON, OILPRICE, ECON, STOCKMARKET, ECON, STOC...</td>\n",
       "      <td>[United Arab Emirates, Qatar, Qatar, United Ar...</td>\n",
       "      <td>0.0</td>\n",
       "      <td>0.600000</td>\n",
       "      <td>0.0</td>\n",
       "    </tr>\n",
       "    <tr>\n",
       "      <th>25</th>\n",
       "      <td>20151014104500-0</td>\n",
       "      <td>2015-10-14 10:45:00</td>\n",
       "      <td>khaleejtimes.com</td>\n",
       "      <td>http://khaleejtimes.com/nation/crime/man-murde...</td>\n",
       "      <td>TAX_FNCACT_WOMAN,101;TAX_FNCACT_WOMAN,916;TAX_...</td>\n",
       "      <td>4#Jebel Ali, Dubayy, United Arab Emirates#AE#A...</td>\n",
       "      <td>-7.12589073634204,0.475059382422803,7.60095011...</td>\n",
       "      <td>NaN</td>\n",
       "      <td>NaN</td>\n",
       "      <td>[TAX, FNCACT, WOMAN, TAX, FNCACT, WOMAN, TAX, ...</td>\n",
       "      <td>[United Arab Emirates, United Arab Emirates, Q...</td>\n",
       "      <td>0.0</td>\n",
       "      <td>0.533333</td>\n",
       "      <td>0.0</td>\n",
       "    </tr>\n",
       "    <tr>\n",
       "      <th>30</th>\n",
       "      <td>20151018111500-661</td>\n",
       "      <td>2015-10-18 11:15:00</td>\n",
       "      <td>zawya.com</td>\n",
       "      <td>http://www.zawya.com/story/HMHs_Ajman_Palace_H...</td>\n",
       "      <td>TAX_FNCACT_ASSISTANT,861;TAX_FNCACT_DIRECTOR,8...</td>\n",
       "      <td>4#Ajman, ÂAjman, United Arab Emirates#AE#AE02...</td>\n",
       "      <td>9.58904109589041,9.58904109589041,0,9.58904109...</td>\n",
       "      <td>NaN</td>\n",
       "      <td>NaN</td>\n",
       "      <td>[TAX, FNCACT, ASSISTANT, TAX, FNCACT, DIRECTOR...</td>\n",
       "      <td>[United Arab Emirates, United Arab Emirates, U...</td>\n",
       "      <td>0.0</td>\n",
       "      <td>1.000000</td>\n",
       "      <td>0.0</td>\n",
       "    </tr>\n",
       "    <tr>\n",
       "      <th>31</th>\n",
       "      <td>20151018111500-724</td>\n",
       "      <td>2015-10-18 11:15:00</td>\n",
       "      <td>dubaicityguide.com</td>\n",
       "      <td>http://www.dubaicityguide.com/site/news/news-d...</td>\n",
       "      <td>SOC_EMERGINGTECH,1781;WB_1467_EDUCATION_FOR_AL...</td>\n",
       "      <td>4#Dubai, Dubayy, United Arab Emirates#AE#AE03#...</td>\n",
       "      <td>3.93873085339168,4.37636761487965,0.4376367614...</td>\n",
       "      <td>NaN</td>\n",
       "      <td>NaN</td>\n",
       "      <td>[SOC, EMERGINGTECH, EDUCATION, EDUCATION, EDUC...</td>\n",
       "      <td>[United Arab Emirates]</td>\n",
       "      <td>0.0</td>\n",
       "      <td>1.000000</td>\n",
       "      <td>0.0</td>\n",
       "    </tr>\n",
       "  </tbody>\n",
       "</table>\n",
       "</div>"
      ],
      "text/plain": [
       "            gkgrecordid                date subsourcecommonname  \\\n",
       "2   20151011213000-1644 2015-10-11 21:30:00      competitor.com   \n",
       "5    20151011150000-539 2015-10-11 15:00:00           yahoo.com   \n",
       "25     20151014104500-0 2015-10-14 10:45:00    khaleejtimes.com   \n",
       "30   20151018111500-661 2015-10-18 11:15:00           zawya.com   \n",
       "31   20151018111500-724 2015-10-18 11:15:00  dubaicityguide.com   \n",
       "\n",
       "                                   documentidentifier  \\\n",
       "2   http://velonews.competitor.com/2015/10/news/ch...   \n",
       "5   https://en-maktoob.news.yahoo.com/mideast-stoc...   \n",
       "25  http://khaleejtimes.com/nation/crime/man-murde...   \n",
       "30  http://www.zawya.com/story/HMHs_Ajman_Palace_H...   \n",
       "31  http://www.dubaicityguide.com/site/news/news-d...   \n",
       "\n",
       "                                       enhancedthemes  \\\n",
       "2   WB_2670_JOBS,696;WB_2815_SKILLS_AND_EDUCATION,...   \n",
       "5   ECON_OILPRICE,114;ECON_STOCKMARKET,52;ECON_STO...   \n",
       "25  TAX_FNCACT_WOMAN,101;TAX_FNCACT_WOMAN,916;TAX_...   \n",
       "30  TAX_FNCACT_ASSISTANT,861;TAX_FNCACT_DIRECTOR,8...   \n",
       "31  SOC_EMERGINGTECH,1781;WB_1467_EDUCATION_FOR_AL...   \n",
       "\n",
       "                                    enhancedlocations  \\\n",
       "2   4#Abu Dhabi, Abu ZÂ¸Aby, United Arab Emirates#...   \n",
       "5   4#First Gulf Bank, Dubayy, United Arab Emirate...   \n",
       "25  4#Jebel Ali, Dubayy, United Arab Emirates#AE#A...   \n",
       "30  4#Ajman, ÂAjman, United Arab Emirates#AE#AE02...   \n",
       "31  4#Dubai, Dubayy, United Arab Emirates#AE#AE03#...   \n",
       "\n",
       "                                                 tone extrasxml  \\\n",
       "2   4.83271375464684,4.83271375464684,0,4.83271375...       NaN   \n",
       "5   0.465116279069767,0.930232558139535,0.46511627...       NaN   \n",
       "25  -7.12589073634204,0.475059382422803,7.60095011...       NaN   \n",
       "30  9.58904109589041,9.58904109589041,0,9.58904109...       NaN   \n",
       "31  3.93873085339168,4.37636761487965,0.4376367614...       NaN   \n",
       "\n",
       "    translationinfo                                 adj_enhancedthemes  \\\n",
       "2               NaN  [JOBS, SKILLS, EDUCATION, JOBS, STRATEGIES, TR...   \n",
       "5               NaN  [ECON, OILPRICE, ECON, STOCKMARKET, ECON, STOC...   \n",
       "25              NaN  [TAX, FNCACT, WOMAN, TAX, FNCACT, WOMAN, TAX, ...   \n",
       "30              NaN  [TAX, FNCACT, ASSISTANT, TAX, FNCACT, DIRECTOR...   \n",
       "31              NaN  [SOC, EMERGINGTECH, EDUCATION, EDUCATION, EDUC...   \n",
       "\n",
       "                                adj_enhancedlocations  Egypt Proportion  \\\n",
       "2                              [United Arab Emirates]               0.0   \n",
       "5   [United Arab Emirates, Qatar, Qatar, United Ar...               0.0   \n",
       "25  [United Arab Emirates, United Arab Emirates, Q...               0.0   \n",
       "30  [United Arab Emirates, United Arab Emirates, U...               0.0   \n",
       "31                             [United Arab Emirates]               0.0   \n",
       "\n",
       "    UAE Proportion  KSA Proportion  \n",
       "2         1.000000             0.0  \n",
       "5         0.600000             0.0  \n",
       "25        0.533333             0.0  \n",
       "30        1.000000             0.0  \n",
       "31        1.000000             0.0  "
      ]
     },
     "execution_count": 52,
     "metadata": {},
     "output_type": "execute_result"
    }
   ],
   "source": [
    "# print(df_UAE.date.describe())\n",
    "df_UAE.info()\n",
    "df_UAE.head(5)"
   ]
  },
  {
   "cell_type": "code",
   "execution_count": 53,
   "metadata": {},
   "outputs": [],
   "source": [
    "df_UAE.to_csv('df_UAE.csv',index=False)\n",
    "df_KSA.to_csv('df_KSA.csv',index=False)\n",
    "df_EGYPT.to_csv('df_EGYPT.csv',index=False)\n"
   ]
  }
 ],
 "metadata": {
  "kernelspec": {
   "display_name": "Python 3 (ipykernel)",
   "language": "python",
   "name": "python3"
  },
  "language_info": {
   "codemirror_mode": {
    "name": "ipython",
    "version": 3
   },
   "file_extension": ".py",
   "mimetype": "text/x-python",
   "name": "python",
   "nbconvert_exporter": "python",
   "pygments_lexer": "ipython3",
   "version": "3.9.15"
  },
  "vscode": {
   "interpreter": {
    "hash": "c583b04bd300b6c5291ff1176f97d61ae1bc889ec7f2c1c609b2578a37b6e7cf"
   }
  }
 },
 "nbformat": 4,
 "nbformat_minor": 2
}
