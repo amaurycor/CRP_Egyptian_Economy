{
 "cells": [
  {
   "cell_type": "code",
   "execution_count": 1,
   "metadata": {},
   "outputs": [],
   "source": [
    "import pandas as pd\n",
    "from datetime import datetime"
   ]
  },
  {
   "cell_type": "code",
   "execution_count": 2,
   "metadata": {},
   "outputs": [
    {
     "name": "stderr",
     "output_type": "stream",
     "text": [
      "C:\\Users\\xying\\AppData\\Local\\Temp\\ipykernel_27708\\1130464638.py:2: DtypeWarning: Columns (7) have mixed types. Specify dtype option on import or set low_memory=False.\n",
      "  df = pd.read_csv('C:/Users/xying/Desktop/DSBA/CRP/headlines_english_arabic_countries.csv', delimiter=',')\n"
     ]
    }
   ],
   "source": [
    "# Data import\n",
    "df = pd.read_csv('C:/Users/xying/Desktop/DSBA/CRP/headlines_english_arabic_countries.csv', delimiter=',')"
   ]
  },
  {
   "cell_type": "code",
   "execution_count": 3,
   "metadata": {},
   "outputs": [
    {
     "name": "stdout",
     "output_type": "stream",
     "text": [
      "<class 'pandas.core.frame.DataFrame'>\n",
      "RangeIndex: 773846 entries, 0 to 773845\n",
      "Data columns (total 9 columns):\n",
      " #   Column               Non-Null Count   Dtype  \n",
      "---  ------               --------------   -----  \n",
      " 0   gkgrecordid          773846 non-null  object \n",
      " 1   date                 773846 non-null  float64\n",
      " 2   subsourcecommonname  773743 non-null  object \n",
      " 3   documentidentifier   773846 non-null  object \n",
      " 4   enhancedthemes       693173 non-null  object \n",
      " 5   enhancedlocations    773846 non-null  object \n",
      " 6   tone                 773846 non-null  object \n",
      " 7   extrasxml            551861 non-null  object \n",
      " 8   translationinfo      0 non-null       float64\n",
      "dtypes: float64(2), object(7)\n",
      "memory usage: 53.1+ MB\n"
     ]
    },
    {
     "data": {
      "text/html": [
       "<div>\n",
       "<style scoped>\n",
       "    .dataframe tbody tr th:only-of-type {\n",
       "        vertical-align: middle;\n",
       "    }\n",
       "\n",
       "    .dataframe tbody tr th {\n",
       "        vertical-align: top;\n",
       "    }\n",
       "\n",
       "    .dataframe thead th {\n",
       "        text-align: right;\n",
       "    }\n",
       "</style>\n",
       "<table border=\"1\" class=\"dataframe\">\n",
       "  <thead>\n",
       "    <tr style=\"text-align: right;\">\n",
       "      <th></th>\n",
       "      <th>gkgrecordid</th>\n",
       "      <th>date</th>\n",
       "      <th>subsourcecommonname</th>\n",
       "      <th>documentidentifier</th>\n",
       "      <th>enhancedthemes</th>\n",
       "      <th>enhancedlocations</th>\n",
       "      <th>tone</th>\n",
       "      <th>extrasxml</th>\n",
       "      <th>translationinfo</th>\n",
       "    </tr>\n",
       "  </thead>\n",
       "  <tbody>\n",
       "    <tr>\n",
       "      <th>0</th>\n",
       "      <td>20151011213000-456</td>\n",
       "      <td>2.015101e+13</td>\n",
       "      <td>dailynewsegypt.com</td>\n",
       "      <td>http://www.dailynewsegypt.com/2015/10/11/tgm-m...</td>\n",
       "      <td>ECON_WORLDCURRENCIES_DOLLAR,2612;ECON_WORLDCUR...</td>\n",
       "      <td>4#Milan, Lombardia, Italy#IT#IT09#18363#45.466...</td>\n",
       "      <td>1.76991150442478,2.54424778761062,0.7743362831...</td>\n",
       "      <td>NaN</td>\n",
       "      <td>NaN</td>\n",
       "    </tr>\n",
       "    <tr>\n",
       "      <th>1</th>\n",
       "      <td>20151011213000-1551</td>\n",
       "      <td>2.015101e+13</td>\n",
       "      <td>gizmodo.com.au</td>\n",
       "      <td>http://www.gizmodo.com.au/2015/10/5-ideas-that...</td>\n",
       "      <td>MANMADE_DISASTER_IMPLIED,58;MANMADE_DISASTER_I...</td>\n",
       "      <td>3#Manhattan, New York, United States#US#USNY#N...</td>\n",
       "      <td>0.843320017754106,2.13049267643142,1.287172658...</td>\n",
       "      <td>NaN</td>\n",
       "      <td>NaN</td>\n",
       "    </tr>\n",
       "    <tr>\n",
       "      <th>2</th>\n",
       "      <td>20151011213000-1644</td>\n",
       "      <td>2.015101e+13</td>\n",
       "      <td>competitor.com</td>\n",
       "      <td>http://velonews.competitor.com/2015/10/news/ch...</td>\n",
       "      <td>WB_2670_JOBS,696;WB_2815_SKILLS_AND_EDUCATION,...</td>\n",
       "      <td>4#Abu Dhabi, Abu ZÂ¸Aby, United Arab Emirates#...</td>\n",
       "      <td>4.83271375464684,4.83271375464684,0,4.83271375...</td>\n",
       "      <td>NaN</td>\n",
       "      <td>NaN</td>\n",
       "    </tr>\n",
       "    <tr>\n",
       "      <th>3</th>\n",
       "      <td>20151016043000-1997</td>\n",
       "      <td>2.015102e+13</td>\n",
       "      <td>daily-chronicle.com</td>\n",
       "      <td>http://www.daily-chronicle.com/2015/10/15/saud...</td>\n",
       "      <td>GENERAL_GOVERNMENT,620;GENERAL_GOVERNMENT,4524...</td>\n",
       "      <td>4#Baghdad, Baghdad, Iraq#IZ#IZ07#36785#33.3386...</td>\n",
       "      <td>-4.35754189944134,1.11731843575419,5.474860335...</td>\n",
       "      <td>NaN</td>\n",
       "      <td>NaN</td>\n",
       "    </tr>\n",
       "    <tr>\n",
       "      <th>4</th>\n",
       "      <td>20151011150000-503</td>\n",
       "      <td>2.015101e+13</td>\n",
       "      <td>dailynewsegypt.com</td>\n",
       "      <td>http://www.dailynewsegypt.com/2015/10/11/sharp...</td>\n",
       "      <td>KIDNAP,2150;EXTREMISM,2184;BORDER,2772;TAX_REL...</td>\n",
       "      <td>4#Gaza, Israel (General), Israel#IS#IS00#18315...</td>\n",
       "      <td>-9.05730129390018,0.924214417744917,9.98151571...</td>\n",
       "      <td>NaN</td>\n",
       "      <td>NaN</td>\n",
       "    </tr>\n",
       "  </tbody>\n",
       "</table>\n",
       "</div>"
      ],
      "text/plain": [
       "           gkgrecordid          date  subsourcecommonname  \\\n",
       "0   20151011213000-456  2.015101e+13   dailynewsegypt.com   \n",
       "1  20151011213000-1551  2.015101e+13       gizmodo.com.au   \n",
       "2  20151011213000-1644  2.015101e+13       competitor.com   \n",
       "3  20151016043000-1997  2.015102e+13  daily-chronicle.com   \n",
       "4   20151011150000-503  2.015101e+13   dailynewsegypt.com   \n",
       "\n",
       "                                  documentidentifier  \\\n",
       "0  http://www.dailynewsegypt.com/2015/10/11/tgm-m...   \n",
       "1  http://www.gizmodo.com.au/2015/10/5-ideas-that...   \n",
       "2  http://velonews.competitor.com/2015/10/news/ch...   \n",
       "3  http://www.daily-chronicle.com/2015/10/15/saud...   \n",
       "4  http://www.dailynewsegypt.com/2015/10/11/sharp...   \n",
       "\n",
       "                                      enhancedthemes  \\\n",
       "0  ECON_WORLDCURRENCIES_DOLLAR,2612;ECON_WORLDCUR...   \n",
       "1  MANMADE_DISASTER_IMPLIED,58;MANMADE_DISASTER_I...   \n",
       "2  WB_2670_JOBS,696;WB_2815_SKILLS_AND_EDUCATION,...   \n",
       "3  GENERAL_GOVERNMENT,620;GENERAL_GOVERNMENT,4524...   \n",
       "4  KIDNAP,2150;EXTREMISM,2184;BORDER,2772;TAX_REL...   \n",
       "\n",
       "                                   enhancedlocations  \\\n",
       "0  4#Milan, Lombardia, Italy#IT#IT09#18363#45.466...   \n",
       "1  3#Manhattan, New York, United States#US#USNY#N...   \n",
       "2  4#Abu Dhabi, Abu ZÂ¸Aby, United Arab Emirates#...   \n",
       "3  4#Baghdad, Baghdad, Iraq#IZ#IZ07#36785#33.3386...   \n",
       "4  4#Gaza, Israel (General), Israel#IS#IS00#18315...   \n",
       "\n",
       "                                                tone extrasxml  \\\n",
       "0  1.76991150442478,2.54424778761062,0.7743362831...       NaN   \n",
       "1  0.843320017754106,2.13049267643142,1.287172658...       NaN   \n",
       "2  4.83271375464684,4.83271375464684,0,4.83271375...       NaN   \n",
       "3  -4.35754189944134,1.11731843575419,5.474860335...       NaN   \n",
       "4  -9.05730129390018,0.924214417744917,9.98151571...       NaN   \n",
       "\n",
       "   translationinfo  \n",
       "0              NaN  \n",
       "1              NaN  \n",
       "2              NaN  \n",
       "3              NaN  \n",
       "4              NaN  "
      ]
     },
     "execution_count": 3,
     "metadata": {},
     "output_type": "execute_result"
    }
   ],
   "source": [
    "df.info()\n",
    "df.head()"
   ]
  },
  {
   "cell_type": "markdown",
   "metadata": {},
   "source": [
    "# Preprocessing"
   ]
  },
  {
   "cell_type": "code",
   "execution_count": 4,
   "metadata": {},
   "outputs": [
    {
     "data": {
      "text/plain": [
       "0        2015-10-11 21:30:00\n",
       "1        2015-10-11 21:30:00\n",
       "2        2015-10-11 21:30:00\n",
       "3        2015-10-16 04:30:00\n",
       "4        2015-10-11 15:00:00\n",
       "                 ...        \n",
       "773841   2023-03-07 13:45:00\n",
       "773842   2023-03-07 19:15:00\n",
       "773843   2023-03-07 19:15:00\n",
       "773844   2023-03-07 19:15:00\n",
       "773845   2023-03-07 19:15:00\n",
       "Name: date, Length: 773846, dtype: datetime64[ns]"
      ]
     },
     "execution_count": 4,
     "metadata": {},
     "output_type": "execute_result"
    }
   ],
   "source": [
    "# Date conversion\n",
    "df.date = df.date.apply(lambda x: datetime.strptime(str(int(x)), '%Y%m%d%H%M%S'))\n",
    "df.date"
   ]
  },
  {
   "cell_type": "code",
   "execution_count": 5,
   "metadata": {},
   "outputs": [
    {
     "data": {
      "text/plain": [
       "7    773846\n",
       "Name: tone, dtype: int64"
      ]
     },
     "execution_count": 5,
     "metadata": {},
     "output_type": "execute_result"
    }
   ],
   "source": [
    "(df['tone'].str.count(',') + 1).value_counts()"
   ]
  },
  {
   "cell_type": "code",
   "execution_count": 6,
   "metadata": {},
   "outputs": [],
   "source": [
    "#  Cleaning of the headlines\n",
    "def themes_cleaning(s_):\n",
    "    s_ = str(s_)\n",
    "    modified_str = [elem.split(',')[0] for elem in s_.split(';')] # delete the number after the coma\n",
    "\n",
    "    final_str=[]\n",
    "    separator=' '\n",
    "    for s in modified_str:\n",
    "        if s.split('_')[0]=='WB':\n",
    "            final_str.append(separator.join(s.split('_')[2:]).split(' ')) # delete the prefix 'WB_XXX', remove underscore and split each word\n",
    "        else:\n",
    "            final_str.append(separator.join(s.split('_')).split(' '))\n",
    "\n",
    "    # to get a list of words and not a list of sub lists\n",
    "    merged_list = []\n",
    "    for sublist in final_str:\n",
    "        merged_list.extend(sublist)\n",
    "    \n",
    "    merged_list = merged_list[:-1] if merged_list and merged_list[-1] == '' else merged_list\n",
    "\n",
    "    return(merged_list) "
   ]
  },
  {
   "cell_type": "code",
   "execution_count": 7,
   "metadata": {},
   "outputs": [
    {
     "name": "stdout",
     "output_type": "stream",
     "text": [
      "['DISPUTE', 'RESOLUTION', 'DISPUTE', 'RESOLUTION', 'TEST', 'TESTOS'] DISPUTE\n"
     ]
    }
   ],
   "source": [
    "# Test of cleaning\n",
    "original_str = 'WB_843_DISPUTE_RESOLUTION,1137;WB_843_DISPUTE_RESOLUTION,2805;TEST_TESTOS,2021'\n",
    "res = themes_cleaning(original_str)\n",
    "print(res, res[0])"
   ]
  },
  {
   "cell_type": "code",
   "execution_count": 8,
   "metadata": {},
   "outputs": [],
   "source": [
    "df['adj_enhancedthemes'] = df.enhancedthemes.apply(lambda x: themes_cleaning(x))"
   ]
  },
  {
   "cell_type": "code",
   "execution_count": 10,
   "metadata": {},
   "outputs": [
    {
     "name": "stdout",
     "output_type": "stream",
     "text": [
      "Collecting nltkNote: you may need to restart the kernel to use updated packages.\n"
     ]
    },
    {
     "name": "stderr",
     "output_type": "stream",
     "text": [
      "\n",
      "[notice] A new release of pip is available: 23.0.1 -> 23.1\n",
      "[notice] To update, run: C:\\Users\\xying\\AppData\\Local\\Microsoft\\WindowsApps\\PythonSoftwareFoundation.Python.3.10_qbz5n2kfra8p0\\python.exe -m pip install --upgrade pip\n"
     ]
    },
    {
     "name": "stdout",
     "output_type": "stream",
     "text": [
      "\n",
      "  Downloading nltk-3.8.1-py3-none-any.whl (1.5 MB)\n",
      "     ---------------------------------------- 1.5/1.5 MB 4.6 MB/s eta 0:00:00\n",
      "Collecting click\n",
      "  Downloading click-8.1.3-py3-none-any.whl (96 kB)\n",
      "     ---------------------------------------- 96.6/96.6 kB 5.4 MB/s eta 0:00:00\n",
      "Collecting tqdm\n",
      "  Downloading tqdm-4.65.0-py3-none-any.whl (77 kB)\n",
      "     ---------------------------------------- 77.1/77.1 kB ? eta 0:00:00\n",
      "Collecting regex>=2021.8.3\n",
      "  Downloading regex-2023.3.23-cp310-cp310-win_amd64.whl (267 kB)\n",
      "     -------------------------------------- 267.9/267.9 kB 5.5 MB/s eta 0:00:00\n",
      "Requirement already satisfied: joblib in c:\\users\\xying\\appdata\\local\\packages\\pythonsoftwarefoundation.python.3.10_qbz5n2kfra8p0\\localcache\\local-packages\\python310\\site-packages (from nltk) (1.2.0)\n",
      "Requirement already satisfied: colorama in c:\\users\\xying\\appdata\\local\\packages\\pythonsoftwarefoundation.python.3.10_qbz5n2kfra8p0\\localcache\\local-packages\\python310\\site-packages (from click->nltk) (0.4.5)\n",
      "Installing collected packages: tqdm, regex, click, nltk\n",
      "Successfully installed click-8.1.3 nltk-3.8.1 regex-2023.3.23 tqdm-4.65.0\n"
     ]
    }
   ],
   "source": [
    "pip install nltk"
   ]
  },
  {
   "cell_type": "code",
   "execution_count": 11,
   "metadata": {},
   "outputs": [
    {
     "name": "stderr",
     "output_type": "stream",
     "text": [
      "[nltk_data] Downloading package stopwords to\n",
      "[nltk_data]     C:\\Users\\xying\\AppData\\Roaming\\nltk_data...\n",
      "[nltk_data]   Unzipping corpora\\stopwords.zip.\n"
     ]
    }
   ],
   "source": [
    "import nltk\n",
    "from nltk.corpus import stopwords\n",
    "\n",
    "nltk.download('stopwords')\n",
    "stop_words = set(stopwords.words('english'))\n",
    "\n",
    "def remove_stopwords(text):\n",
    "    filtered_text = [word for word in text if word.lower() not in stop_words]\n",
    "    return filtered_text"
   ]
  },
  {
   "cell_type": "code",
   "execution_count": 12,
   "metadata": {},
   "outputs": [],
   "source": [
    "df['adj_enhancedthemes'] = df['adj_enhancedthemes'].apply(lambda x: remove_stopwords(x))"
   ]
  },
  {
   "cell_type": "code",
   "execution_count": 13,
   "metadata": {
    "scrolled": true
   },
   "outputs": [
    {
     "data": {
      "text/plain": [
       "['ECON',\n",
       " 'TAXATION',\n",
       " 'ECON',\n",
       " 'TAXATION',\n",
       " 'ECON',\n",
       " 'TAXATION',\n",
       " 'ECON',\n",
       " 'TAXATION',\n",
       " 'ECON',\n",
       " 'TAXATION',\n",
       " 'ECON',\n",
       " 'TAXATION',\n",
       " 'ECON',\n",
       " 'TAXATION',\n",
       " 'ECON',\n",
       " 'TAXATION',\n",
       " 'ECON',\n",
       " 'TAXATION',\n",
       " 'ECON',\n",
       " 'TAXATION',\n",
       " 'ECON',\n",
       " 'TAXATION',\n",
       " 'ECON',\n",
       " 'TAXATION',\n",
       " 'ECON',\n",
       " 'TAXATION',\n",
       " 'ECON',\n",
       " 'TAXATION',\n",
       " 'ECON',\n",
       " 'TAXATION',\n",
       " 'ECON',\n",
       " 'TAXATION',\n",
       " 'ECON',\n",
       " 'TAXATION',\n",
       " 'ECON',\n",
       " 'TAXATION',\n",
       " 'ECON',\n",
       " 'TAXATION',\n",
       " 'USPEC',\n",
       " 'POLICY1',\n",
       " 'USPEC',\n",
       " 'POLICY1',\n",
       " 'USPEC',\n",
       " 'POLICY1',\n",
       " 'USPEC',\n",
       " 'POLICY1',\n",
       " 'USPEC',\n",
       " 'POLICY1',\n",
       " 'USPEC',\n",
       " 'POLICY1',\n",
       " 'USPEC',\n",
       " 'POLICY1',\n",
       " 'USPEC',\n",
       " 'POLICY1',\n",
       " 'USPEC',\n",
       " 'POLICY1',\n",
       " 'USPEC',\n",
       " 'POLICY1',\n",
       " 'USPEC',\n",
       " 'POLICY1',\n",
       " 'USPEC',\n",
       " 'POLICY1',\n",
       " 'USPEC',\n",
       " 'POLICY1',\n",
       " 'USPEC',\n",
       " 'POLICY1',\n",
       " 'USPEC',\n",
       " 'POLICY1',\n",
       " 'USPEC',\n",
       " 'POLICY1',\n",
       " 'USPEC',\n",
       " 'POLICY1',\n",
       " 'USPEC',\n",
       " 'POLICY1',\n",
       " 'USPEC',\n",
       " 'POLICY1',\n",
       " 'TAX',\n",
       " 'FNCACT',\n",
       " 'MINISTER',\n",
       " 'TAX',\n",
       " 'FNCACT',\n",
       " 'MINISTER',\n",
       " 'TAX',\n",
       " 'FNCACT',\n",
       " 'MINISTER',\n",
       " 'TAX',\n",
       " 'FNCACT',\n",
       " 'MINISTER',\n",
       " 'TAX',\n",
       " 'FNCACT',\n",
       " 'MINISTER']"
      ]
     },
     "execution_count": 13,
     "metadata": {},
     "output_type": "execute_result"
    }
   ],
   "source": [
    "df.adj_enhancedthemes.iloc[7]"
   ]
  },
  {
   "cell_type": "code",
   "execution_count": 14,
   "metadata": {},
   "outputs": [],
   "source": [
    "#  Cleaning of the locations\n",
    "def locations_cleaning(s_):\n",
    "    s_ = str(s_)\n",
    "    modified_str = [elem.split('#')[1] for elem in s_.split(';')]\n",
    "    final_str = [elem.split(', ') for elem in modified_str ]\n",
    "    merged_list = []\n",
    "    for sublist in final_str:\n",
    "        merged_list.append(sublist[-1]) # we only keep the titles of country\n",
    "    return(merged_list) \n"
   ]
  },
  {
   "cell_type": "code",
   "execution_count": 15,
   "metadata": {},
   "outputs": [
    {
     "name": "stdout",
     "output_type": "stream",
     "text": [
      "1#Indonesian#ID#ID##-5#120#ID#432;1#Australian#AS#AS##-27#133#AS#973;4#Sydney, New South Wales, Australia#AS#AS02#154637#-33.8833#151.217#-1603135#2342;1#Australia#AS#AS##-27#133#AS#238;1#Australia#AS#AS##-27#133#AS#331;1#Australia#AS#AS##-27#133#AS#1787;1#Australia#AS#AS##-27#133#AS#2353;1#Oman#MU#MU##21#57#MU#1038;1#United Arab Emirates#AE#AE##24#54#AE#1077;1#Kuwait#KU#KU##29.3375#47.6581#KU#1970;3#Hollywood, California, United States#US#USCA#CA037#34.0983#-118.327#1660757#1656\n",
      "['Indonesian', 'Australian', 'Australia', 'Australia', 'Australia', 'Australia', 'Australia', 'Oman', 'United Arab Emirates', 'Kuwait', 'United States']\n"
     ]
    }
   ],
   "source": [
    "# Test of cleaning\n",
    "print(df.enhancedlocations.iloc[8])\n",
    "res = locations_cleaning(df.enhancedlocations.iloc[8])\n",
    "print(res)"
   ]
  },
  {
   "cell_type": "code",
   "execution_count": 16,
   "metadata": {},
   "outputs": [],
   "source": [
    "df['adj_enhancedlocations'] = df.enhancedlocations.apply(lambda x: locations_cleaning(x))"
   ]
  },
  {
   "cell_type": "code",
   "execution_count": 17,
   "metadata": {
    "scrolled": true
   },
   "outputs": [
    {
     "data": {
      "text/plain": [
       "gkgrecordid                   0\n",
       "date                          0\n",
       "subsourcecommonname           0\n",
       "documentidentifier            0\n",
       "enhancedthemes                0\n",
       "enhancedlocations             0\n",
       "tone                          0\n",
       "extrasxml                206398\n",
       "translationinfo          693073\n",
       "adj_enhancedthemes            0\n",
       "adj_enhancedlocations         0\n",
       "dtype: int64"
      ]
     },
     "execution_count": 17,
     "metadata": {},
     "output_type": "execute_result"
    }
   ],
   "source": [
    "# Drop empty headlines\n",
    "df = df.dropna(subset=['enhancedthemes'])\n",
    "df = df.dropna(subset=['subsourcecommonname'])\n",
    "df.isnull().sum()"
   ]
  },
  {
   "cell_type": "code",
   "execution_count": 18,
   "metadata": {},
   "outputs": [],
   "source": [
    "# add three columns which specify the proportion of occurrence of Egypt, UAE and KSA\n",
    "def calculate_proportion(names,criteria):\n",
    "    return sum(1 for name in names if any(criterion in name.lower() for criterion in criteria) ) / len(names)\n",
    "\n",
    "# Add a new column to the DataFrame with the proportion of 'China' or 'Chinese'\n",
    "df['Egypt Proportion'] = df.adj_enhancedlocations.apply(lambda x : calculate_proportion(x,['egypt','egyptian']))\n",
    "df['UAE Proportion'] = df.adj_enhancedlocations.apply(lambda x : calculate_proportion(x,['united arab emirates','uae']))\n",
    "df['KSA Proportion'] = df.adj_enhancedlocations.apply(lambda x : calculate_proportion(x,['ksa','saudi arabia','king of saudi arabia']))\n",
    "\n"
   ]
  },
  {
   "cell_type": "code",
   "execution_count": 19,
   "metadata": {},
   "outputs": [
    {
     "data": {
      "text/html": [
       "<div>\n",
       "<style scoped>\n",
       "    .dataframe tbody tr th:only-of-type {\n",
       "        vertical-align: middle;\n",
       "    }\n",
       "\n",
       "    .dataframe tbody tr th {\n",
       "        vertical-align: top;\n",
       "    }\n",
       "\n",
       "    .dataframe thead th {\n",
       "        text-align: right;\n",
       "    }\n",
       "</style>\n",
       "<table border=\"1\" class=\"dataframe\">\n",
       "  <thead>\n",
       "    <tr style=\"text-align: right;\">\n",
       "      <th></th>\n",
       "      <th>Egypt Proportion</th>\n",
       "      <th>UAE Proportion</th>\n",
       "      <th>KSA Proportion</th>\n",
       "    </tr>\n",
       "  </thead>\n",
       "  <tbody>\n",
       "    <tr>\n",
       "      <th>0</th>\n",
       "      <td>0.863636</td>\n",
       "      <td>0.045455</td>\n",
       "      <td>0.000000</td>\n",
       "    </tr>\n",
       "    <tr>\n",
       "      <th>1</th>\n",
       "      <td>0.000000</td>\n",
       "      <td>0.013699</td>\n",
       "      <td>0.000000</td>\n",
       "    </tr>\n",
       "    <tr>\n",
       "      <th>2</th>\n",
       "      <td>0.000000</td>\n",
       "      <td>1.000000</td>\n",
       "      <td>0.000000</td>\n",
       "    </tr>\n",
       "    <tr>\n",
       "      <th>3</th>\n",
       "      <td>0.000000</td>\n",
       "      <td>0.000000</td>\n",
       "      <td>0.111111</td>\n",
       "    </tr>\n",
       "    <tr>\n",
       "      <th>4</th>\n",
       "      <td>0.555556</td>\n",
       "      <td>0.000000</td>\n",
       "      <td>0.000000</td>\n",
       "    </tr>\n",
       "    <tr>\n",
       "      <th>...</th>\n",
       "      <td>...</td>\n",
       "      <td>...</td>\n",
       "      <td>...</td>\n",
       "    </tr>\n",
       "    <tr>\n",
       "      <th>773840</th>\n",
       "      <td>0.000000</td>\n",
       "      <td>1.000000</td>\n",
       "      <td>0.000000</td>\n",
       "    </tr>\n",
       "    <tr>\n",
       "      <th>773841</th>\n",
       "      <td>0.000000</td>\n",
       "      <td>0.000000</td>\n",
       "      <td>0.088235</td>\n",
       "    </tr>\n",
       "    <tr>\n",
       "      <th>773842</th>\n",
       "      <td>0.000000</td>\n",
       "      <td>0.666667</td>\n",
       "      <td>0.000000</td>\n",
       "    </tr>\n",
       "    <tr>\n",
       "      <th>773844</th>\n",
       "      <td>0.000000</td>\n",
       "      <td>0.000000</td>\n",
       "      <td>0.178571</td>\n",
       "    </tr>\n",
       "    <tr>\n",
       "      <th>773845</th>\n",
       "      <td>0.000000</td>\n",
       "      <td>0.291667</td>\n",
       "      <td>0.000000</td>\n",
       "    </tr>\n",
       "  </tbody>\n",
       "</table>\n",
       "<p>693073 rows × 3 columns</p>\n",
       "</div>"
      ],
      "text/plain": [
       "        Egypt Proportion  UAE Proportion  KSA Proportion\n",
       "0               0.863636        0.045455        0.000000\n",
       "1               0.000000        0.013699        0.000000\n",
       "2               0.000000        1.000000        0.000000\n",
       "3               0.000000        0.000000        0.111111\n",
       "4               0.555556        0.000000        0.000000\n",
       "...                  ...             ...             ...\n",
       "773840          0.000000        1.000000        0.000000\n",
       "773841          0.000000        0.000000        0.088235\n",
       "773842          0.000000        0.666667        0.000000\n",
       "773844          0.000000        0.000000        0.178571\n",
       "773845          0.000000        0.291667        0.000000\n",
       "\n",
       "[693073 rows x 3 columns]"
      ]
     },
     "execution_count": 19,
     "metadata": {},
     "output_type": "execute_result"
    }
   ],
   "source": [
    "df.iloc[:,-3:]"
   ]
  },
  {
   "cell_type": "markdown",
   "metadata": {},
   "source": [
    "# Split the Dataset"
   ]
  },
  {
   "cell_type": "code",
   "execution_count": 20,
   "metadata": {},
   "outputs": [],
   "source": [
    "# Filter the news whose enhancedthemes contain UAE/KSA/EGYPT respectively \n",
    "# and whose proportion of occurrence among all the mentioned locations should be higher than 30%\n",
    "\n",
    "condition_egypt = (df['Egypt Proportion'].apply(lambda x: x > 0.3) ) & \\\n",
    "            (df['adj_enhancedthemes'].apply(lambda x: any(keyword in x for keyword in ['EGYPT','EGYPTIAN'])))\n",
    "df_EGYPT = df[condition_egypt]\n",
    "\n",
    "condition_uae = (df['UAE Proportion'].apply(lambda x: x > 0.3) ) & \\\n",
    "            (df['adj_enhancedthemes'].apply(lambda x: any(keyword in x for keyword in ['UAE','ARAB','ERAMITES'])))\n",
    "df_UAE = df[condition_uae]\n",
    "\n",
    "condition_ksa = (df['KSA Proportion'].apply(lambda x: x > 0.3) ) & \\\n",
    "            (df['adj_enhancedthemes'].apply(lambda x: any(keyword in x for keyword in ['KSA','SAUDI','ARABIA'])))\n",
    "df_KSA = df[condition_ksa]\n"
   ]
  },
  {
   "cell_type": "code",
   "execution_count": 22,
   "metadata": {},
   "outputs": [
    {
     "name": "stdout",
     "output_type": "stream",
     "text": [
      "<class 'pandas.core.frame.DataFrame'>\n",
      "Int64Index: 349 entries, 284 to 757907\n",
      "Data columns (total 14 columns):\n",
      " #   Column                 Non-Null Count  Dtype         \n",
      "---  ------                 --------------  -----         \n",
      " 0   gkgrecordid            349 non-null    object        \n",
      " 1   date                   349 non-null    datetime64[ns]\n",
      " 2   subsourcecommonname    349 non-null    object        \n",
      " 3   documentidentifier     349 non-null    object        \n",
      " 4   enhancedthemes         349 non-null    object        \n",
      " 5   enhancedlocations      349 non-null    object        \n",
      " 6   tone                   349 non-null    object        \n",
      " 7   extrasxml              228 non-null    object        \n",
      " 8   translationinfo        0 non-null      float64       \n",
      " 9   adj_enhancedthemes     349 non-null    object        \n",
      " 10  adj_enhancedlocations  349 non-null    object        \n",
      " 11  Egypt Proportion       349 non-null    float64       \n",
      " 12  UAE Proportion         349 non-null    float64       \n",
      " 13  KSA Proportion         349 non-null    float64       \n",
      "dtypes: datetime64[ns](1), float64(4), object(9)\n",
      "memory usage: 40.9+ KB\n"
     ]
    },
    {
     "data": {
      "text/html": [
       "<div>\n",
       "<style scoped>\n",
       "    .dataframe tbody tr th:only-of-type {\n",
       "        vertical-align: middle;\n",
       "    }\n",
       "\n",
       "    .dataframe tbody tr th {\n",
       "        vertical-align: top;\n",
       "    }\n",
       "\n",
       "    .dataframe thead th {\n",
       "        text-align: right;\n",
       "    }\n",
       "</style>\n",
       "<table border=\"1\" class=\"dataframe\">\n",
       "  <thead>\n",
       "    <tr style=\"text-align: right;\">\n",
       "      <th></th>\n",
       "      <th>gkgrecordid</th>\n",
       "      <th>date</th>\n",
       "      <th>subsourcecommonname</th>\n",
       "      <th>documentidentifier</th>\n",
       "      <th>enhancedthemes</th>\n",
       "      <th>enhancedlocations</th>\n",
       "      <th>tone</th>\n",
       "      <th>extrasxml</th>\n",
       "      <th>translationinfo</th>\n",
       "      <th>adj_enhancedthemes</th>\n",
       "      <th>adj_enhancedlocations</th>\n",
       "      <th>Egypt Proportion</th>\n",
       "      <th>UAE Proportion</th>\n",
       "      <th>KSA Proportion</th>\n",
       "    </tr>\n",
       "  </thead>\n",
       "  <tbody>\n",
       "    <tr>\n",
       "      <th>284</th>\n",
       "      <td>20151016113000-1869</td>\n",
       "      <td>2015-10-16 11:30:00</td>\n",
       "      <td>skyscrapercity.com</td>\n",
       "      <td>http://www.skyscrapercity.com/showthread.php?p...</td>\n",
       "      <td>GENERAL_GOVERNMENT,3967;GENERAL_GOVERNMENT,445...</td>\n",
       "      <td>4#Mecca, Makkah, Saudi Arabia#SA#SA14#25312#21...</td>\n",
       "      <td>-1.97505197505198,1.66320166320166,3.638253638...</td>\n",
       "      <td>NaN</td>\n",
       "      <td>NaN</td>\n",
       "      <td>[GENERAL, GOVERNMENT, GENERAL, GOVERNMENT, COM...</td>\n",
       "      <td>[Saudi Arabia, Saudi Arabia, Saudi Arabia, Sau...</td>\n",
       "      <td>0.000000</td>\n",
       "      <td>0.000000</td>\n",
       "      <td>0.470588</td>\n",
       "    </tr>\n",
       "    <tr>\n",
       "      <th>311</th>\n",
       "      <td>20151001131500-759</td>\n",
       "      <td>2015-10-01 13:15:00</td>\n",
       "      <td>ap.org</td>\n",
       "      <td>http://hosted2.ap.org/CAANR/0260ea4c3e85456b80...</td>\n",
       "      <td>TERROR,5325;TERROR,5394;REBELS,5325;REBELS,539...</td>\n",
       "      <td>1#Saudis#SA#SA##25#45#SA#2089;1#Yemen#YM#YM##1...</td>\n",
       "      <td>-0.179694519317161,2.51572327044025,2.69541778...</td>\n",
       "      <td>NaN</td>\n",
       "      <td>NaN</td>\n",
       "      <td>[TERROR, TERROR, REBELS, REBELS, CONFLICT, VIO...</td>\n",
       "      <td>[Saudis, Yemen, Lebanon, Saudi, Saudi, Saudi, ...</td>\n",
       "      <td>0.018868</td>\n",
       "      <td>0.094340</td>\n",
       "      <td>0.377358</td>\n",
       "    </tr>\n",
       "    <tr>\n",
       "      <th>851</th>\n",
       "      <td>20151001163000-1036</td>\n",
       "      <td>2015-10-01 16:30:00</td>\n",
       "      <td>fuelfix.com</td>\n",
       "      <td>http://fuelfix.com/blog/2015/10/01/as-oil-weal...</td>\n",
       "      <td>TERROR,5283;TERROR,5352;REBELS,5283;REBELS,535...</td>\n",
       "      <td>1#Saudis#SA#SA##25#45#SA#2056;1#Yemen#YM#YM##1...</td>\n",
       "      <td>-0.179533213644524,2.51346499102334,2.69299820...</td>\n",
       "      <td>NaN</td>\n",
       "      <td>NaN</td>\n",
       "      <td>[TERROR, TERROR, REBELS, REBELS, CONFLICT, VIO...</td>\n",
       "      <td>[Saudis, Yemen, Lebanon, Egypt, Saudi, Saudi, ...</td>\n",
       "      <td>0.019231</td>\n",
       "      <td>0.096154</td>\n",
       "      <td>0.384615</td>\n",
       "    </tr>\n",
       "    <tr>\n",
       "      <th>1053</th>\n",
       "      <td>20151016120000-2239</td>\n",
       "      <td>2015-10-16 12:00:00</td>\n",
       "      <td>skyscrapercity.com</td>\n",
       "      <td>http://www.skyscrapercity.com/showthread.php?s...</td>\n",
       "      <td>GENERAL_GOVERNMENT,3967;GENERAL_GOVERNMENT,445...</td>\n",
       "      <td>4#Mecca, Makkah, Saudi Arabia#SA#SA14#25312#21...</td>\n",
       "      <td>-1.97505197505198,1.66320166320166,3.638253638...</td>\n",
       "      <td>NaN</td>\n",
       "      <td>NaN</td>\n",
       "      <td>[GENERAL, GOVERNMENT, GENERAL, GOVERNMENT, COM...</td>\n",
       "      <td>[Saudi Arabia, Saudi Arabia, Saudi Arabia, Sau...</td>\n",
       "      <td>0.000000</td>\n",
       "      <td>0.000000</td>\n",
       "      <td>0.470588</td>\n",
       "    </tr>\n",
       "    <tr>\n",
       "      <th>1798</th>\n",
       "      <td>20151013090000-2743</td>\n",
       "      <td>2015-10-13 09:00:00</td>\n",
       "      <td>rightspeak.net</td>\n",
       "      <td>http://www.rightspeak.net/2015/10/bill-clinton...</td>\n",
       "      <td>WB_2467_TERRORISM,2091;WB_2467_TERRORISM,2199;...</td>\n",
       "      <td>1#Lebanese#LE#LE##33.8333#35.8333#LE#1188;3#Wh...</td>\n",
       "      <td>-6.96378830083566,1.1142061281337,8.0779944289...</td>\n",
       "      <td>NaN</td>\n",
       "      <td>NaN</td>\n",
       "      <td>[TERRORISM, TERRORISM, CONFLICT, VIOLENCE, CON...</td>\n",
       "      <td>[Lebanese, United States, United States, Irani...</td>\n",
       "      <td>0.000000</td>\n",
       "      <td>0.000000</td>\n",
       "      <td>0.413793</td>\n",
       "    </tr>\n",
       "  </tbody>\n",
       "</table>\n",
       "</div>"
      ],
      "text/plain": [
       "              gkgrecordid                date subsourcecommonname  \\\n",
       "284   20151016113000-1869 2015-10-16 11:30:00  skyscrapercity.com   \n",
       "311    20151001131500-759 2015-10-01 13:15:00              ap.org   \n",
       "851   20151001163000-1036 2015-10-01 16:30:00         fuelfix.com   \n",
       "1053  20151016120000-2239 2015-10-16 12:00:00  skyscrapercity.com   \n",
       "1798  20151013090000-2743 2015-10-13 09:00:00      rightspeak.net   \n",
       "\n",
       "                                     documentidentifier  \\\n",
       "284   http://www.skyscrapercity.com/showthread.php?p...   \n",
       "311   http://hosted2.ap.org/CAANR/0260ea4c3e85456b80...   \n",
       "851   http://fuelfix.com/blog/2015/10/01/as-oil-weal...   \n",
       "1053  http://www.skyscrapercity.com/showthread.php?s...   \n",
       "1798  http://www.rightspeak.net/2015/10/bill-clinton...   \n",
       "\n",
       "                                         enhancedthemes  \\\n",
       "284   GENERAL_GOVERNMENT,3967;GENERAL_GOVERNMENT,445...   \n",
       "311   TERROR,5325;TERROR,5394;REBELS,5325;REBELS,539...   \n",
       "851   TERROR,5283;TERROR,5352;REBELS,5283;REBELS,535...   \n",
       "1053  GENERAL_GOVERNMENT,3967;GENERAL_GOVERNMENT,445...   \n",
       "1798  WB_2467_TERRORISM,2091;WB_2467_TERRORISM,2199;...   \n",
       "\n",
       "                                      enhancedlocations  \\\n",
       "284   4#Mecca, Makkah, Saudi Arabia#SA#SA14#25312#21...   \n",
       "311   1#Saudis#SA#SA##25#45#SA#2089;1#Yemen#YM#YM##1...   \n",
       "851   1#Saudis#SA#SA##25#45#SA#2056;1#Yemen#YM#YM##1...   \n",
       "1053  4#Mecca, Makkah, Saudi Arabia#SA#SA14#25312#21...   \n",
       "1798  1#Lebanese#LE#LE##33.8333#35.8333#LE#1188;3#Wh...   \n",
       "\n",
       "                                                   tone extrasxml  \\\n",
       "284   -1.97505197505198,1.66320166320166,3.638253638...       NaN   \n",
       "311   -0.179694519317161,2.51572327044025,2.69541778...       NaN   \n",
       "851   -0.179533213644524,2.51346499102334,2.69299820...       NaN   \n",
       "1053  -1.97505197505198,1.66320166320166,3.638253638...       NaN   \n",
       "1798  -6.96378830083566,1.1142061281337,8.0779944289...       NaN   \n",
       "\n",
       "      translationinfo                                 adj_enhancedthemes  \\\n",
       "284               NaN  [GENERAL, GOVERNMENT, GENERAL, GOVERNMENT, COM...   \n",
       "311               NaN  [TERROR, TERROR, REBELS, REBELS, CONFLICT, VIO...   \n",
       "851               NaN  [TERROR, TERROR, REBELS, REBELS, CONFLICT, VIO...   \n",
       "1053              NaN  [GENERAL, GOVERNMENT, GENERAL, GOVERNMENT, COM...   \n",
       "1798              NaN  [TERRORISM, TERRORISM, CONFLICT, VIOLENCE, CON...   \n",
       "\n",
       "                                  adj_enhancedlocations  Egypt Proportion  \\\n",
       "284   [Saudi Arabia, Saudi Arabia, Saudi Arabia, Sau...          0.000000   \n",
       "311   [Saudis, Yemen, Lebanon, Saudi, Saudi, Saudi, ...          0.018868   \n",
       "851   [Saudis, Yemen, Lebanon, Egypt, Saudi, Saudi, ...          0.019231   \n",
       "1053  [Saudi Arabia, Saudi Arabia, Saudi Arabia, Sau...          0.000000   \n",
       "1798  [Lebanese, United States, United States, Irani...          0.000000   \n",
       "\n",
       "      UAE Proportion  KSA Proportion  \n",
       "284         0.000000        0.470588  \n",
       "311         0.094340        0.377358  \n",
       "851         0.096154        0.384615  \n",
       "1053        0.000000        0.470588  \n",
       "1798        0.000000        0.413793  "
      ]
     },
     "execution_count": 22,
     "metadata": {},
     "output_type": "execute_result"
    }
   ],
   "source": [
    "# print(df_UAE.date.describe())\n",
    "df_KSA.info()\n",
    "df_KSA.head(5)"
   ]
  },
  {
   "cell_type": "code",
   "execution_count": 23,
   "metadata": {},
   "outputs": [],
   "source": [
    "df_UAE.to_csv('df_UAE.csv',index=False)\n",
    "df_KSA.to_csv('df_KSA.csv',index=False)\n",
    "df_EGYPT.to_csv('df_EGYPT.csv',index=False)\n"
   ]
  }
 ],
 "metadata": {
  "kernelspec": {
   "display_name": "Python 3 (ipykernel)",
   "language": "python",
   "name": "python3"
  },
  "language_info": {
   "codemirror_mode": {
    "name": "ipython",
    "version": 3
   },
   "file_extension": ".py",
   "mimetype": "text/x-python",
   "name": "python",
   "nbconvert_exporter": "python",
   "pygments_lexer": "ipython3",
   "version": "3.10.11"
  },
  "vscode": {
   "interpreter": {
    "hash": "c583b04bd300b6c5291ff1176f97d61ae1bc889ec7f2c1c609b2578a37b6e7cf"
   }
  }
 },
 "nbformat": 4,
 "nbformat_minor": 2
}
